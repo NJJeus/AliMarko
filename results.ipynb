{
 "cells": [
  {
   "cell_type": "code",
   "execution_count": 478,
   "id": "9e8203b2-01dd-40eb-8997-b72bba8ef0b1",
   "metadata": {},
   "outputs": [],
   "source": [
    "import pandas as pd\n",
    "import glob\n",
    "import os\n",
    "import seaborn as sns\n",
    "import matplotlib.pyplot as plt\n",
    "import numpy as np\n",
    "from Bio import Entrez\n",
    "from scipy.cluster.hierarchy import dendrogram, linkage\n",
    "import subprocess\n",
    "import multiprocessing\n",
    "import plotly.express as px"
   ]
  },
  {
   "cell_type": "code",
   "execution_count": 765,
   "id": "fde5d66e-9dcf-4f24-a021-36edeb6cf449",
   "metadata": {},
   "outputs": [],
   "source": [
    "dataset = 'test'\n",
    "path = f'DATA/{dataset}/'"
   ]
  },
  {
   "cell_type": "code",
   "execution_count": 766,
   "id": "81f54650-02be-43ed-a496-18cc9fe61dff",
   "metadata": {},
   "outputs": [],
   "source": [
    "data = pd.read_table(f'DATA/{dataset}/result_coverage_table.tsv', index_col=0, converters={'fragments_coverage': pd.eval})"
   ]
  },
  {
   "cell_type": "code",
   "execution_count": 767,
   "id": "51c00e78-b122-4d0f-b35d-1919c7b11f93",
   "metadata": {},
   "outputs": [
    {
     "data": {
      "text/html": [
       "<div>\n",
       "<style scoped>\n",
       "    .dataframe tbody tr th:only-of-type {\n",
       "        vertical-align: middle;\n",
       "    }\n",
       "\n",
       "    .dataframe tbody tr th {\n",
       "        vertical-align: top;\n",
       "    }\n",
       "\n",
       "    .dataframe thead th {\n",
       "        text-align: right;\n",
       "    }\n",
       "</style>\n",
       "<table border=\"1\" class=\"dataframe\">\n",
       "  <thead>\n",
       "    <tr style=\"text-align: right;\">\n",
       "      <th></th>\n",
       "      <th>Species</th>\n",
       "      <th>Virus name(s)</th>\n",
       "      <th>Host source</th>\n",
       "      <th>coverage</th>\n",
       "      <th>max_coverage</th>\n",
       "      <th>min_coverage</th>\n",
       "      <th>quality</th>\n",
       "      <th>len</th>\n",
       "      <th>fragments_coverage</th>\n",
       "      <th>Realm</th>\n",
       "      <th>Kingdom</th>\n",
       "      <th>Subkingdom</th>\n",
       "      <th>Phylum</th>\n",
       "      <th>Subphylum</th>\n",
       "      <th>Class</th>\n",
       "      <th>Order</th>\n",
       "      <th>Family</th>\n",
       "      <th>Genus</th>\n",
       "      <th>Species.1</th>\n",
       "      <th>Virus GENBANK accession</th>\n",
       "    </tr>\n",
       "  </thead>\n",
       "  <tbody>\n",
       "    <tr>\n",
       "      <th>0</th>\n",
       "      <td>Miniopterus bat coronavirus 1</td>\n",
       "      <td>miniopterus bat coronavirus 1</td>\n",
       "      <td>vertebrates</td>\n",
       "      <td>100</td>\n",
       "      <td>100</td>\n",
       "      <td>100</td>\n",
       "      <td>0.600000</td>\n",
       "      <td>28325</td>\n",
       "      <td>[100]</td>\n",
       "      <td>Riboviria</td>\n",
       "      <td>Orthornavirae</td>\n",
       "      <td>NaN</td>\n",
       "      <td>Pisuviricota</td>\n",
       "      <td>NaN</td>\n",
       "      <td>Pisoniviricetes</td>\n",
       "      <td>Nidovirales</td>\n",
       "      <td>Coronaviridae</td>\n",
       "      <td>Alphacoronavirus</td>\n",
       "      <td>Miniopterus bat coronavirus 1</td>\n",
       "      <td>EU420138</td>\n",
       "    </tr>\n",
       "    <tr>\n",
       "      <th>1</th>\n",
       "      <td>Lophivirus Xv2</td>\n",
       "      <td>Xanthomonas phage phiXv2</td>\n",
       "      <td>bacteria</td>\n",
       "      <td>72</td>\n",
       "      <td>72</td>\n",
       "      <td>72</td>\n",
       "      <td>0.590196</td>\n",
       "      <td>6563</td>\n",
       "      <td>[72]</td>\n",
       "      <td>Monodnaviria</td>\n",
       "      <td>Loebvirae</td>\n",
       "      <td>NaN</td>\n",
       "      <td>Hofneiviricota</td>\n",
       "      <td>NaN</td>\n",
       "      <td>Faserviricetes</td>\n",
       "      <td>Tubulavirales</td>\n",
       "      <td>Inoviridae</td>\n",
       "      <td>Lophivirus</td>\n",
       "      <td>Lophivirus Xv2</td>\n",
       "      <td>MH206183</td>\n",
       "    </tr>\n",
       "    <tr>\n",
       "      <th>2</th>\n",
       "      <td>Malvastrum leaf curl deltasatellite</td>\n",
       "      <td>Malvastrum leaf curl deltasatellite</td>\n",
       "      <td>plants</td>\n",
       "      <td>7</td>\n",
       "      <td>7</td>\n",
       "      <td>7</td>\n",
       "      <td>0.400000</td>\n",
       "      <td>672</td>\n",
       "      <td>[7]</td>\n",
       "      <td>NaN</td>\n",
       "      <td>NaN</td>\n",
       "      <td>NaN</td>\n",
       "      <td>NaN</td>\n",
       "      <td>NaN</td>\n",
       "      <td>NaN</td>\n",
       "      <td>NaN</td>\n",
       "      <td>Tolecusatellitidae</td>\n",
       "      <td>Deltasatellite</td>\n",
       "      <td>Malvastrum leaf curl deltasatellite</td>\n",
       "      <td>KF433066</td>\n",
       "    </tr>\n",
       "    <tr>\n",
       "      <th>3</th>\n",
       "      <td>Bat associated circovirus 13</td>\n",
       "      <td>bat circovirus</td>\n",
       "      <td>vertebrates</td>\n",
       "      <td>3</td>\n",
       "      <td>3</td>\n",
       "      <td>3</td>\n",
       "      <td>0.000000</td>\n",
       "      <td>2062</td>\n",
       "      <td>[3]</td>\n",
       "      <td>Monodnaviria</td>\n",
       "      <td>Shotokuvirae</td>\n",
       "      <td>NaN</td>\n",
       "      <td>Cressdnaviricota</td>\n",
       "      <td>NaN</td>\n",
       "      <td>Arfiviricetes</td>\n",
       "      <td>Cirlivirales</td>\n",
       "      <td>Circoviridae</td>\n",
       "      <td>Circovirus</td>\n",
       "      <td>Bat associated circovirus 13</td>\n",
       "      <td>MN928506</td>\n",
       "    </tr>\n",
       "    <tr>\n",
       "      <th>4</th>\n",
       "      <td>Andrographis yellow vein leaf curl betasatellite</td>\n",
       "      <td>Andrographis yellow vein leaf curl betasatellite</td>\n",
       "      <td>plants</td>\n",
       "      <td>3</td>\n",
       "      <td>3</td>\n",
       "      <td>3</td>\n",
       "      <td>0.348000</td>\n",
       "      <td>1378</td>\n",
       "      <td>[3]</td>\n",
       "      <td>NaN</td>\n",
       "      <td>NaN</td>\n",
       "      <td>NaN</td>\n",
       "      <td>NaN</td>\n",
       "      <td>NaN</td>\n",
       "      <td>NaN</td>\n",
       "      <td>NaN</td>\n",
       "      <td>Tolecusatellitidae</td>\n",
       "      <td>Betasatellite</td>\n",
       "      <td>Andrographis yellow vein leaf curl betasatellite</td>\n",
       "      <td>KC967282</td>\n",
       "    </tr>\n",
       "    <tr>\n",
       "      <th>...</th>\n",
       "      <td>...</td>\n",
       "      <td>...</td>\n",
       "      <td>...</td>\n",
       "      <td>...</td>\n",
       "      <td>...</td>\n",
       "      <td>...</td>\n",
       "      <td>...</td>\n",
       "      <td>...</td>\n",
       "      <td>...</td>\n",
       "      <td>...</td>\n",
       "      <td>...</td>\n",
       "      <td>...</td>\n",
       "      <td>...</td>\n",
       "      <td>...</td>\n",
       "      <td>...</td>\n",
       "      <td>...</td>\n",
       "      <td>...</td>\n",
       "      <td>...</td>\n",
       "      <td>...</td>\n",
       "      <td>...</td>\n",
       "    </tr>\n",
       "    <tr>\n",
       "      <th>10153</th>\n",
       "      <td>Foxunavirus fox2</td>\n",
       "      <td>Xanthomonas phage FoX2</td>\n",
       "      <td>bacteria</td>\n",
       "      <td>0</td>\n",
       "      <td>0</td>\n",
       "      <td>0</td>\n",
       "      <td>0.000000</td>\n",
       "      <td>44085</td>\n",
       "      <td>[0]</td>\n",
       "      <td>Duplodnaviria</td>\n",
       "      <td>Heunggongvirae</td>\n",
       "      <td>NaN</td>\n",
       "      <td>Uroviricota</td>\n",
       "      <td>NaN</td>\n",
       "      <td>Caudoviricetes</td>\n",
       "      <td>NaN</td>\n",
       "      <td>NaN</td>\n",
       "      <td>Foxunavirus</td>\n",
       "      <td>Foxunavirus fox2</td>\n",
       "      <td>MT161382</td>\n",
       "    </tr>\n",
       "    <tr>\n",
       "      <th>10154</th>\n",
       "      <td>Foxunavirus fox3</td>\n",
       "      <td>Xanthomonas phage FoX3</td>\n",
       "      <td>bacteria</td>\n",
       "      <td>0</td>\n",
       "      <td>0</td>\n",
       "      <td>0</td>\n",
       "      <td>0.000000</td>\n",
       "      <td>44152</td>\n",
       "      <td>[0]</td>\n",
       "      <td>Duplodnaviria</td>\n",
       "      <td>Heunggongvirae</td>\n",
       "      <td>NaN</td>\n",
       "      <td>Uroviricota</td>\n",
       "      <td>NaN</td>\n",
       "      <td>Caudoviricetes</td>\n",
       "      <td>NaN</td>\n",
       "      <td>NaN</td>\n",
       "      <td>Foxunavirus</td>\n",
       "      <td>Foxunavirus fox3</td>\n",
       "      <td>MT161383</td>\n",
       "    </tr>\n",
       "    <tr>\n",
       "      <th>10155</th>\n",
       "      <td>Foxunavirus fox5</td>\n",
       "      <td>Xanthomonas phage FoX5</td>\n",
       "      <td>bacteria</td>\n",
       "      <td>0</td>\n",
       "      <td>0</td>\n",
       "      <td>0</td>\n",
       "      <td>0.000000</td>\n",
       "      <td>43871</td>\n",
       "      <td>[0]</td>\n",
       "      <td>Duplodnaviria</td>\n",
       "      <td>Heunggongvirae</td>\n",
       "      <td>NaN</td>\n",
       "      <td>Uroviricota</td>\n",
       "      <td>NaN</td>\n",
       "      <td>Caudoviricetes</td>\n",
       "      <td>NaN</td>\n",
       "      <td>NaN</td>\n",
       "      <td>Foxunavirus</td>\n",
       "      <td>Foxunavirus fox5</td>\n",
       "      <td>MT161384</td>\n",
       "    </tr>\n",
       "    <tr>\n",
       "      <th>10156</th>\n",
       "      <td>Fragaria chiloensis latent virus</td>\n",
       "      <td>Fragaria chiloensis latent virus</td>\n",
       "      <td>plants</td>\n",
       "      <td>0</td>\n",
       "      <td>0</td>\n",
       "      <td>0</td>\n",
       "      <td>0.000000</td>\n",
       "      <td>8482</td>\n",
       "      <td>[0, 0, 0]</td>\n",
       "      <td>Riboviria</td>\n",
       "      <td>Orthornavirae</td>\n",
       "      <td>NaN</td>\n",
       "      <td>Kitrinoviricota</td>\n",
       "      <td>NaN</td>\n",
       "      <td>Alsuviricetes</td>\n",
       "      <td>Martellivirales</td>\n",
       "      <td>Bromoviridae</td>\n",
       "      <td>Ilarvirus</td>\n",
       "      <td>Fragaria chiloensis latent virus</td>\n",
       "      <td>RNA1: AY682102; RNA2: AY707771; RNA3: AY707772</td>\n",
       "    </tr>\n",
       "    <tr>\n",
       "      <th>10157</th>\n",
       "      <td>Zygosaccharomyces bailii virus Z</td>\n",
       "      <td>Zygosaccharomyces bailii virus Z</td>\n",
       "      <td>fungi</td>\n",
       "      <td>0</td>\n",
       "      <td>0</td>\n",
       "      <td>0</td>\n",
       "      <td>0.000000</td>\n",
       "      <td>3159</td>\n",
       "      <td>[0]</td>\n",
       "      <td>Riboviria</td>\n",
       "      <td>Orthornavirae</td>\n",
       "      <td>NaN</td>\n",
       "      <td>Pisuviricota</td>\n",
       "      <td>NaN</td>\n",
       "      <td>Duplopiviricetes</td>\n",
       "      <td>Durnavirales</td>\n",
       "      <td>Amalgaviridae</td>\n",
       "      <td>Zybavirus</td>\n",
       "      <td>Zygosaccharomyces bailii virus Z</td>\n",
       "      <td>KU200450</td>\n",
       "    </tr>\n",
       "  </tbody>\n",
       "</table>\n",
       "<p>10158 rows × 20 columns</p>\n",
       "</div>"
      ],
      "text/plain": [
       "                                                Species   \n",
       "0                         Miniopterus bat coronavirus 1  \\\n",
       "1                                        Lophivirus Xv2   \n",
       "2                   Malvastrum leaf curl deltasatellite   \n",
       "3                          Bat associated circovirus 13   \n",
       "4      Andrographis yellow vein leaf curl betasatellite   \n",
       "...                                                 ...   \n",
       "10153                                  Foxunavirus fox2   \n",
       "10154                                  Foxunavirus fox3   \n",
       "10155                                  Foxunavirus fox5   \n",
       "10156                  Fragaria chiloensis latent virus   \n",
       "10157                  Zygosaccharomyces bailii virus Z   \n",
       "\n",
       "                                          Virus name(s)  Host source   \n",
       "0                         miniopterus bat coronavirus 1  vertebrates  \\\n",
       "1                              Xanthomonas phage phiXv2     bacteria   \n",
       "2                   Malvastrum leaf curl deltasatellite       plants   \n",
       "3                                        bat circovirus  vertebrates   \n",
       "4      Andrographis yellow vein leaf curl betasatellite       plants   \n",
       "...                                                 ...          ...   \n",
       "10153                            Xanthomonas phage FoX2     bacteria   \n",
       "10154                            Xanthomonas phage FoX3     bacteria   \n",
       "10155                            Xanthomonas phage FoX5     bacteria   \n",
       "10156                  Fragaria chiloensis latent virus       plants   \n",
       "10157                  Zygosaccharomyces bailii virus Z        fungi   \n",
       "\n",
       "       coverage  max_coverage  min_coverage   quality    len   \n",
       "0           100           100           100  0.600000  28325  \\\n",
       "1            72            72            72  0.590196   6563   \n",
       "2             7             7             7  0.400000    672   \n",
       "3             3             3             3  0.000000   2062   \n",
       "4             3             3             3  0.348000   1378   \n",
       "...         ...           ...           ...       ...    ...   \n",
       "10153         0             0             0  0.000000  44085   \n",
       "10154         0             0             0  0.000000  44152   \n",
       "10155         0             0             0  0.000000  43871   \n",
       "10156         0             0             0  0.000000   8482   \n",
       "10157         0             0             0  0.000000   3159   \n",
       "\n",
       "      fragments_coverage          Realm         Kingdom  Subkingdom   \n",
       "0                  [100]      Riboviria   Orthornavirae         NaN  \\\n",
       "1                   [72]   Monodnaviria       Loebvirae         NaN   \n",
       "2                    [7]            NaN             NaN         NaN   \n",
       "3                    [3]   Monodnaviria    Shotokuvirae         NaN   \n",
       "4                    [3]            NaN             NaN         NaN   \n",
       "...                  ...            ...             ...         ...   \n",
       "10153                [0]  Duplodnaviria  Heunggongvirae         NaN   \n",
       "10154                [0]  Duplodnaviria  Heunggongvirae         NaN   \n",
       "10155                [0]  Duplodnaviria  Heunggongvirae         NaN   \n",
       "10156          [0, 0, 0]      Riboviria   Orthornavirae         NaN   \n",
       "10157                [0]      Riboviria   Orthornavirae         NaN   \n",
       "\n",
       "                 Phylum Subphylum             Class            Order   \n",
       "0          Pisuviricota       NaN   Pisoniviricetes      Nidovirales  \\\n",
       "1        Hofneiviricota       NaN    Faserviricetes    Tubulavirales   \n",
       "2                   NaN       NaN               NaN              NaN   \n",
       "3      Cressdnaviricota       NaN     Arfiviricetes     Cirlivirales   \n",
       "4                   NaN       NaN               NaN              NaN   \n",
       "...                 ...       ...               ...              ...   \n",
       "10153       Uroviricota       NaN    Caudoviricetes              NaN   \n",
       "10154       Uroviricota       NaN    Caudoviricetes              NaN   \n",
       "10155       Uroviricota       NaN    Caudoviricetes              NaN   \n",
       "10156   Kitrinoviricota       NaN     Alsuviricetes  Martellivirales   \n",
       "10157      Pisuviricota       NaN  Duplopiviricetes     Durnavirales   \n",
       "\n",
       "                   Family             Genus   \n",
       "0           Coronaviridae  Alphacoronavirus  \\\n",
       "1              Inoviridae        Lophivirus   \n",
       "2      Tolecusatellitidae    Deltasatellite   \n",
       "3            Circoviridae        Circovirus   \n",
       "4      Tolecusatellitidae     Betasatellite   \n",
       "...                   ...               ...   \n",
       "10153                 NaN       Foxunavirus   \n",
       "10154                 NaN       Foxunavirus   \n",
       "10155                 NaN       Foxunavirus   \n",
       "10156        Bromoviridae         Ilarvirus   \n",
       "10157       Amalgaviridae         Zybavirus   \n",
       "\n",
       "                                              Species.1   \n",
       "0                         Miniopterus bat coronavirus 1  \\\n",
       "1                                        Lophivirus Xv2   \n",
       "2                   Malvastrum leaf curl deltasatellite   \n",
       "3                          Bat associated circovirus 13   \n",
       "4      Andrographis yellow vein leaf curl betasatellite   \n",
       "...                                                 ...   \n",
       "10153                                  Foxunavirus fox2   \n",
       "10154                                  Foxunavirus fox3   \n",
       "10155                                  Foxunavirus fox5   \n",
       "10156                  Fragaria chiloensis latent virus   \n",
       "10157                  Zygosaccharomyces bailii virus Z   \n",
       "\n",
       "                              Virus GENBANK accession  \n",
       "0                                            EU420138  \n",
       "1                                            MH206183  \n",
       "2                                            KF433066  \n",
       "3                                            MN928506  \n",
       "4                                            KC967282  \n",
       "...                                               ...  \n",
       "10153                                        MT161382  \n",
       "10154                                        MT161383  \n",
       "10155                                        MT161384  \n",
       "10156  RNA1: AY682102; RNA2: AY707771; RNA3: AY707772  \n",
       "10157                                        KU200450  \n",
       "\n",
       "[10158 rows x 20 columns]"
      ]
     },
     "execution_count": 767,
     "metadata": {},
     "output_type": "execute_result"
    }
   ],
   "source": [
    "data"
   ]
  },
  {
   "cell_type": "code",
   "execution_count": 768,
   "id": "f7f77348-88b4-43bb-8042-f41722bbb18d",
   "metadata": {},
   "outputs": [
    {
     "data": {
      "image/png": "[encoded data removed]",
      "text/plain": [
       "<Figure size 780x520 with 1 Axes>"
      ]
     },
     "metadata": {},
     "output_type": "display_data"
    }
   ],
   "source": [
    "plt.figure(figsize=(6, 4), dpi=130)\n",
    "plt.title('Распределение ширины покрытия для вирусов базы ICTV дял данных external rna', fontdict={'size':8})\n",
    "sns.histplot(data.coverage, bins=100)\n",
    "plt.yscale('log')"
   ]
  },
  {
   "cell_type": "code",
   "execution_count": 769,
   "id": "56a6d5a1-1acb-4be0-a27a-2755fbf432f5",
   "metadata": {
    "tags": []
   },
   "outputs": [
    {
     "ename": "TypeError",
     "evalue": "bar() got an unexpected keyword argument 'data'",
     "output_type": "error",
     "traceback": [
      "\u001b[0;31m---------------------------------------------------------------------------\u001b[0m",
      "\u001b[0;31mTypeError\u001b[0m                                 Traceback (most recent call last)",
      "Cell \u001b[0;32mIn[769], line 3\u001b[0m\n\u001b[1;32m      1\u001b[0m plt\u001b[38;5;241m.\u001b[39mfigure(figsize\u001b[38;5;241m=\u001b[39m(\u001b[38;5;241m3\u001b[39m, \u001b[38;5;241m8\u001b[39m), dpi\u001b[38;5;241m=\u001b[39m\u001b[38;5;241m130\u001b[39m)\n\u001b[1;32m      2\u001b[0m \u001b[38;5;66;03m#plt.title(f'20 вирусов из базы ICTV с наилучшим покрытием на данных {dataset}')\u001b[39;00m\n\u001b[0;32m----> 3\u001b[0m \u001b[43mpx\u001b[49m\u001b[38;5;241;43m.\u001b[39;49m\u001b[43mbar\u001b[49m\u001b[43m(\u001b[49m\u001b[43mdata\u001b[49m\u001b[38;5;241;43m=\u001b[39;49m\u001b[43mdata\u001b[49m\u001b[38;5;241;43m.\u001b[39;49m\u001b[43msort_values\u001b[49m\u001b[43m(\u001b[49m\u001b[38;5;124;43m'\u001b[39;49m\u001b[38;5;124;43mcoverage\u001b[39;49m\u001b[38;5;124;43m'\u001b[39;49m\u001b[43m,\u001b[49m\u001b[43m \u001b[49m\u001b[43mascending\u001b[49m\u001b[38;5;241;43m=\u001b[39;49m\u001b[38;5;28;43;01mFalse\u001b[39;49;00m\u001b[43m)\u001b[49m\u001b[43m[\u001b[49m\u001b[43m:\u001b[49m\u001b[38;5;241;43m20\u001b[39;49m\u001b[43m]\u001b[49m\u001b[43m,\u001b[49m\u001b[43m \u001b[49m\u001b[43mx\u001b[49m\u001b[38;5;241;43m=\u001b[39;49m\u001b[38;5;124;43m'\u001b[39;49m\u001b[38;5;124;43mmax_coverage\u001b[39;49m\u001b[38;5;124;43m'\u001b[39;49m\u001b[43m,\u001b[49m\u001b[43m \u001b[49m\u001b[43my\u001b[49m\u001b[38;5;241;43m=\u001b[39;49m\u001b[38;5;124;43m'\u001b[39;49m\u001b[38;5;124;43mVirus name(s)\u001b[39;49m\u001b[38;5;124;43m'\u001b[39;49m\u001b[43m)\u001b[49m\n\u001b[1;32m      4\u001b[0m \u001b[38;5;66;03m#plt.xlabel('Max coverage')\u001b[39;00m\n\u001b[1;32m      5\u001b[0m \u001b[38;5;66;03m#plt.ylabel('Virus names sorted by mean coverage')\u001b[39;00m\n",
      "\u001b[0;31mTypeError\u001b[0m: bar() got an unexpected keyword argument 'data'"
     ]
    },
    {
     "data": {
      "text/plain": [
       "<Figure size 390x1040 with 0 Axes>"
      ]
     },
     "metadata": {},
     "output_type": "display_data"
    }
   ],
   "source": [
    "plt.figure(figsize=(3, 8), dpi=130)\n",
    "#plt.title(f'20 вирусов из базы ICTV с наилучшим покрытием на данных {dataset}')\n",
    "px.bar(data=data.sort_values('coverage', ascending=False)[:20], x='max_coverage', y='Virus name(s)')\n",
    "#plt.xlabel('Max coverage')\n",
    "#plt.ylabel('Virus names sorted by mean coverage')"
   ]
  },
  {
   "cell_type": "code",
   "execution_count": 770,
   "id": "0ed49135-2cc3-46de-8277-afa84bfe8a72",
   "metadata": {},
   "outputs": [],
   "source": [
    "ictv_coverages = glob.glob(f'{path}/ictv_coverage/*.csv')"
   ]
  },
  {
   "cell_type": "code",
   "execution_count": 771,
   "id": "2360d6da-f95f-40b0-8cd6-a3b85eb7b3ee",
   "metadata": {},
   "outputs": [],
   "source": [
    "common_table = (pd.DataFrame(pd.read_csv(ictv_coverages[0], index_col=0).coverage).\n",
    "                rename(columns={'coverage':os.path.splitext(os.path.basename(ictv_coverages[0]))[0]}))\n",
    "for ictv_coverage in ictv_coverages[1:]:\n",
    "    name = os.path.splitext(os.path.basename(ictv_coverage))[0]\n",
    "    common_table[name] = pd.DataFrame(pd.read_csv(ictv_coverage, index_col=0).coverage)"
   ]
  },
  {
   "cell_type": "code",
   "execution_count": 772,
   "id": "16262d60-fb99-4459-a26f-43fe438b4007",
   "metadata": {
    "tags": []
   },
   "outputs": [],
   "source": [
    "barplot_table = pd.DataFrame(common_table.loc[common_table.mean(axis=1).sort_values(ascending=False).index].max(axis=1))\n",
    "barplot_table.columns = ['max_coverage']\n",
    "barplot_table['mean_coverage'] = common_table.loc[common_table.mean(axis=1).sort_values(ascending=False).index].mean(axis=1)\n",
    "barplot_table['mean_coverage'] = barplot_table['mean_coverage'].astype('float')\n",
    "barplot_table = barplot_table.reset_index()"
   ]
  },
  {
   "cell_type": "markdown",
   "id": "aecf43cb-e414-43ba-8d3d-042222c6359c",
   "metadata": {
    "tags": []
   },
   "source": [
    "plt.figure(figsize=(3, 8), dpi=130)\n",
    "px.bar(x=barplot_table[:40]['max_coverage'], y=barplot_table[:40]['Species'], width=700, height=700, )\n",
    "#plt.title(f'20 вирусов из базы ICTV с наилучшим покрытием \\n на данных {dataset}')\n",
    "#plt.xlabel('Max coverage')\n",
    "#plt.ylabel('Virus names sorted by mean coverage')"
   ]
  },
  {
   "cell_type": "code",
   "execution_count": 774,
   "id": "3dcfa0ab-d64e-4c6d-af14-a362df3772cb",
   "metadata": {},
   "outputs": [],
   "source": [
    "means = common_table.mean(axis=1)\n",
    "# sort the rows by the median values\n",
    "sorted_df = common_table.iloc[means.argsort()[::-1]]"
   ]
  },
  {
   "cell_type": "code",
   "execution_count": 775,
   "id": "4d2bf968-8ca7-4a30-86ac-e6d9168cd077",
   "metadata": {
    "tags": []
   },
   "outputs": [
    {
     "data": {
      "application/vnd.plotly.v1+json": {
       "config": {
        "plotlyServerURL": "https://plot.ly"
       },
       "data": [
        {
         "coloraxis": "coloraxis",
         "hovertemplate": "x: %{x}<br>Species: %{y}<br>color: %{z}<extra></extra>",
         "name": "0",
         "type": "heatmap",
         "x": [
          "test_fastq"
         ],
         "xaxis": "x",
         "y": [
          "Miniopterus bat coronavirus 1",
          "Lophivirus Xv2",
          "Malvastrum leaf curl deltasatellite",
          "Andrographis yellow vein leaf curl betasatellite",
          "Bat associated circovirus 13",
          "Heterobasidion partitivirus 1",
          "Coriovirus Cf1c",
          "Rosellinia necatrix partitivirus 2",
          "Primula malacoides virus 1",
          "Hibiscus latent Singapore virus",
          "Maize stripe tenuivirus",
          "Torque teno midi virus 5",
          "Crimson clover cryptic virus 2",
          "Woolly monkey sarcoma virus",
          "Red clover cryptic virus 2",
          "Heterobasidion partitivirus 15",
          "Heterobasidion partitivirus 3",
          "Pleurotus ostreatus virus 1",
          "Mamastrovirus 15",
          "Cacao swollen shoot CD virus"
         ],
         "yaxis": "y",
         "z": [
          [
           99.8164
          ],
          [
           72.4558
          ],
          [
           7.42942
          ],
          [
           3.33575
          ],
          [
           2.8599099999999997
          ],
          [
           1.69531423798509
          ],
          [
           1.33260482332034
          ],
          [
           1.23259938073996
          ],
          [
           1.20405046914623
          ],
          [
           1.17194
          ],
          [
           1.14741693957115
          ],
          [
           1.05985
          ],
          [
           1.00040768140116
          ],
          [
           0.98633
          ],
          [
           0.9826401171303
          ],
          [
           0.92566063742849
          ],
          [
           0.9161854273389
          ],
          [
           0.8408870489262701
          ],
          [
           0.8258059999999999
          ],
          [
           0.763571
          ]
         ]
        }
       ],
       "layout": {
        "coloraxis": {
         "colorscale": [
          [
           0,
           "#0d0887"
          ],
          [
           0.1111111111111111,
           "#46039f"
          ],
          [
           0.2222222222222222,
           "#7201a8"
          ],
          [
           0.3333333333333333,
           "#9c179e"
          ],
          [
           0.4444444444444444,
           "#bd3786"
          ],
          [
           0.5555555555555556,
           "#d8576b"
          ],
          [
           0.6666666666666666,
           "#ed7953"
          ],
          [
           0.7777777777777778,
           "#fb9f3a"
          ],
          [
           0.8888888888888888,
           "#fdca26"
          ],
          [
           1,
           "#f0f921"
          ]
         ]
        },
        "height": 700,
        "margin": {
         "t": 60
        },
        "template": {
         "data": {
          "bar": [
           {
            "error_x": {
             "color": "#2a3f5f"
            },
            "error_y": {
             "color": "#2a3f5f"
            },
            "marker": {
             "line": {
              "color": "#E5ECF6",
              "width": 0.5
             },
             "pattern": {
              "fillmode": "overlay",
              "size": 10,
              "solidity": 0.2
             }
            },
            "type": "bar"
           }
          ],
          "barpolar": [
           {
            "marker": {
             "line": {
              "color": "#E5ECF6",
              "width": 0.5
             },
             "pattern": {
              "fillmode": "overlay",
              "size": 10,
              "solidity": 0.2
             }
            },
            "type": "barpolar"
           }
          ],
          "carpet": [
           {
            "aaxis": {
             "endlinecolor": "#2a3f5f",
             "gridcolor": "white",
             "linecolor": "white",
             "minorgridcolor": "white",
             "startlinecolor": "#2a3f5f"
            },
            "baxis": {
             "endlinecolor": "#2a3f5f",
             "gridcolor": "white",
             "linecolor": "white",
             "minorgridcolor": "white",
             "startlinecolor": "#2a3f5f"
            },
            "type": "carpet"
           }
          ],
          "choropleth": [
           {
            "colorbar": {
             "outlinewidth": 0,
             "ticks": ""
            },
            "type": "choropleth"
           }
          ],
          "contour": [
           {
            "colorbar": {
             "outlinewidth": 0,
             "ticks": ""
            },
            "colorscale": [
             [
              0,
              "#0d0887"
             ],
             [
              0.1111111111111111,
              "#46039f"
             ],
             [
              0.2222222222222222,
              "#7201a8"
             ],
             [
              0.3333333333333333,
              "#9c179e"
             ],
             [
              0.4444444444444444,
              "#bd3786"
             ],
             [
              0.5555555555555556,
              "#d8576b"
             ],
             [
              0.6666666666666666,
              "#ed7953"
             ],
             [
              0.7777777777777778,
              "#fb9f3a"
             ],
             [
              0.8888888888888888,
              "#fdca26"
             ],
             [
              1,
              "#f0f921"
             ]
            ],
            "type": "contour"
           }
          ],
          "contourcarpet": [
           {
            "colorbar": {
             "outlinewidth": 0,
             "ticks": ""
            },
            "type": "contourcarpet"
           }
          ],
          "heatmap": [
           {
            "colorbar": {
             "outlinewidth": 0,
             "ticks": ""
            },
            "colorscale": [
             [
              0,
              "#0d0887"
             ],
             [
              0.1111111111111111,
              "#46039f"
             ],
             [
              0.2222222222222222,
              "#7201a8"
             ],
             [
              0.3333333333333333,
              "#9c179e"
             ],
             [
              0.4444444444444444,
              "#bd3786"
             ],
             [
              0.5555555555555556,
              "#d8576b"
             ],
             [
              0.6666666666666666,
              "#ed7953"
             ],
             [
              0.7777777777777778,
              "#fb9f3a"
             ],
             [
              0.8888888888888888,
              "#fdca26"
             ],
             [
              1,
              "#f0f921"
             ]
            ],
            "type": "heatmap"
           }
          ],
          "heatmapgl": [
           {
            "colorbar": {
             "outlinewidth": 0,
             "ticks": ""
            },
            "colorscale": [
             [
              0,
              "#0d0887"
             ],
             [
              0.1111111111111111,
              "#46039f"
             ],
             [
              0.2222222222222222,
              "#7201a8"
             ],
             [
              0.3333333333333333,
              "#9c179e"
             ],
             [
              0.4444444444444444,
              "#bd3786"
             ],
             [
              0.5555555555555556,
              "#d8576b"
             ],
             [
              0.6666666666666666,
              "#ed7953"
             ],
             [
              0.7777777777777778,
              "#fb9f3a"
             ],
             [
              0.8888888888888888,
              "#fdca26"
             ],
             [
              1,
              "#f0f921"
             ]
            ],
            "type": "heatmapgl"
           }
          ],
          "histogram": [
           {
            "marker": {
             "pattern": {
              "fillmode": "overlay",
              "size": 10,
              "solidity": 0.2
             }
            },
            "type": "histogram"
           }
          ],
          "histogram2d": [
           {
            "colorbar": {
             "outlinewidth": 0,
             "ticks": ""
            },
            "colorscale": [
             [
              0,
              "#0d0887"
             ],
             [
              0.1111111111111111,
              "#46039f"
             ],
             [
              0.2222222222222222,
              "#7201a8"
             ],
             [
              0.3333333333333333,
              "#9c179e"
             ],
             [
              0.4444444444444444,
              "#bd3786"
             ],
             [
              0.5555555555555556,
              "#d8576b"
             ],
             [
              0.6666666666666666,
              "#ed7953"
             ],
             [
              0.7777777777777778,
              "#fb9f3a"
             ],
             [
              0.8888888888888888,
              "#fdca26"
             ],
             [
              1,
              "#f0f921"
             ]
            ],
            "type": "histogram2d"
           }
          ],
          "histogram2dcontour": [
           {
            "colorbar": {
             "outlinewidth": 0,
             "ticks": ""
            },
            "colorscale": [
             [
              0,
              "#0d0887"
             ],
             [
              0.1111111111111111,
              "#46039f"
             ],
             [
              0.2222222222222222,
              "#7201a8"
             ],
             [
              0.3333333333333333,
              "#9c179e"
             ],
             [
              0.4444444444444444,
              "#bd3786"
             ],
             [
              0.5555555555555556,
              "#d8576b"
             ],
             [
              0.6666666666666666,
              "#ed7953"
             ],
             [
              0.7777777777777778,
              "#fb9f3a"
             ],
             [
              0.8888888888888888,
              "#fdca26"
             ],
             [
              1,
              "#f0f921"
             ]
            ],
            "type": "histogram2dcontour"
           }
          ],
          "mesh3d": [
           {
            "colorbar": {
             "outlinewidth": 0,
             "ticks": ""
            },
            "type": "mesh3d"
           }
          ],
          "parcoords": [
           {
            "line": {
             "colorbar": {
              "outlinewidth": 0,
              "ticks": ""
             }
            },
            "type": "parcoords"
           }
          ],
          "pie": [
           {
            "automargin": true,
            "type": "pie"
           }
          ],
          "scatter": [
           {
            "fillpattern": {
             "fillmode": "overlay",
             "size": 10,
             "solidity": 0.2
            },
            "type": "scatter"
           }
          ],
          "scatter3d": [
           {
            "line": {
             "colorbar": {
              "outlinewidth": 0,
              "ticks": ""
             }
            },
            "marker": {
             "colorbar": {
              "outlinewidth": 0,
              "ticks": ""
             }
            },
            "type": "scatter3d"
           }
          ],
          "scattercarpet": [
           {
            "marker": {
             "colorbar": {
              "outlinewidth": 0,
              "ticks": ""
             }
            },
            "type": "scattercarpet"
           }
          ],
          "scattergeo": [
           {
            "marker": {
             "colorbar": {
              "outlinewidth": 0,
              "ticks": ""
             }
            },
            "type": "scattergeo"
           }
          ],
          "scattergl": [
           {
            "marker": {
             "colorbar": {
              "outlinewidth": 0,
              "ticks": ""
             }
            },
            "type": "scattergl"
           }
          ],
          "scattermapbox": [
           {
            "marker": {
             "colorbar": {
              "outlinewidth": 0,
              "ticks": ""
             }
            },
            "type": "scattermapbox"
           }
          ],
          "scatterpolar": [
           {
            "marker": {
             "colorbar": {
              "outlinewidth": 0,
              "ticks": ""
             }
            },
            "type": "scatterpolar"
           }
          ],
          "scatterpolargl": [
           {
            "marker": {
             "colorbar": {
              "outlinewidth": 0,
              "ticks": ""
             }
            },
            "type": "scatterpolargl"
           }
          ],
          "scatterternary": [
           {
            "marker": {
             "colorbar": {
              "outlinewidth": 0,
              "ticks": ""
             }
            },
            "type": "scatterternary"
           }
          ],
          "surface": [
           {
            "colorbar": {
             "outlinewidth": 0,
             "ticks": ""
            },
            "colorscale": [
             [
              0,
              "#0d0887"
             ],
             [
              0.1111111111111111,
              "#46039f"
             ],
             [
              0.2222222222222222,
              "#7201a8"
             ],
             [
              0.3333333333333333,
              "#9c179e"
             ],
             [
              0.4444444444444444,
              "#bd3786"
             ],
             [
              0.5555555555555556,
              "#d8576b"
             ],
             [
              0.6666666666666666,
              "#ed7953"
             ],
             [
              0.7777777777777778,
              "#fb9f3a"
             ],
             [
              0.8888888888888888,
              "#fdca26"
             ],
             [
              1,
              "#f0f921"
             ]
            ],
            "type": "surface"
           }
          ],
          "table": [
           {
            "cells": {
             "fill": {
              "color": "#EBF0F8"
             },
             "line": {
              "color": "white"
             }
            },
            "header": {
             "fill": {
              "color": "#C8D4E3"
             },
             "line": {
              "color": "white"
             }
            },
            "type": "table"
           }
          ]
         },
         "layout": {
          "annotationdefaults": {
           "arrowcolor": "#2a3f5f",
           "arrowhead": 0,
           "arrowwidth": 1
          },
          "autotypenumbers": "strict",
          "coloraxis": {
           "colorbar": {
            "outlinewidth": 0,
            "ticks": ""
           }
          },
          "colorscale": {
           "diverging": [
            [
             0,
             "#8e0152"
            ],
            [
             0.1,
             "#c51b7d"
            ],
            [
             0.2,
             "#de77ae"
            ],
            [
             0.3,
             "#f1b6da"
            ],
            [
             0.4,
             "#fde0ef"
            ],
            [
             0.5,
             "#f7f7f7"
            ],
            [
             0.6,
             "#e6f5d0"
            ],
            [
             0.7,
             "#b8e186"
            ],
            [
             0.8,
             "#7fbc41"
            ],
            [
             0.9,
             "#4d9221"
            ],
            [
             1,
             "#276419"
            ]
           ],
           "sequential": [
            [
             0,
             "#0d0887"
            ],
            [
             0.1111111111111111,
             "#46039f"
            ],
            [
             0.2222222222222222,
             "#7201a8"
            ],
            [
             0.3333333333333333,
             "#9c179e"
            ],
            [
             0.4444444444444444,
             "#bd3786"
            ],
            [
             0.5555555555555556,
             "#d8576b"
            ],
            [
             0.6666666666666666,
             "#ed7953"
            ],
            [
             0.7777777777777778,
             "#fb9f3a"
            ],
            [
             0.8888888888888888,
             "#fdca26"
            ],
            [
             1,
             "#f0f921"
            ]
           ],
           "sequentialminus": [
            [
             0,
             "#0d0887"
            ],
            [
             0.1111111111111111,
             "#46039f"
            ],
            [
             0.2222222222222222,
             "#7201a8"
            ],
            [
             0.3333333333333333,
             "#9c179e"
            ],
            [
             0.4444444444444444,
             "#bd3786"
            ],
            [
             0.5555555555555556,
             "#d8576b"
            ],
            [
             0.6666666666666666,
             "#ed7953"
            ],
            [
             0.7777777777777778,
             "#fb9f3a"
            ],
            [
             0.8888888888888888,
             "#fdca26"
            ],
            [
             1,
             "#f0f921"
            ]
           ]
          },
          "colorway": [
           "#636efa",
           "#EF553B",
           "#00cc96",
           "#ab63fa",
           "#FFA15A",
           "#19d3f3",
           "#FF6692",
           "#B6E880",
           "#FF97FF",
           "#FECB52"
          ],
          "font": {
           "color": "#2a3f5f"
          },
          "geo": {
           "bgcolor": "white",
           "lakecolor": "white",
           "landcolor": "#E5ECF6",
           "showlakes": true,
           "showland": true,
           "subunitcolor": "white"
          },
          "hoverlabel": {
           "align": "left"
          },
          "hovermode": "closest",
          "mapbox": {
           "style": "light"
          },
          "paper_bgcolor": "white",
          "plot_bgcolor": "#E5ECF6",
          "polar": {
           "angularaxis": {
            "gridcolor": "white",
            "linecolor": "white",
            "ticks": ""
           },
           "bgcolor": "#E5ECF6",
           "radialaxis": {
            "gridcolor": "white",
            "linecolor": "white",
            "ticks": ""
           }
          },
          "scene": {
           "xaxis": {
            "backgroundcolor": "#E5ECF6",
            "gridcolor": "white",
            "gridwidth": 2,
            "linecolor": "white",
            "showbackground": true,
            "ticks": "",
            "zerolinecolor": "white"
           },
           "yaxis": {
            "backgroundcolor": "#E5ECF6",
            "gridcolor": "white",
            "gridwidth": 2,
            "linecolor": "white",
            "showbackground": true,
            "ticks": "",
            "zerolinecolor": "white"
           },
           "zaxis": {
            "backgroundcolor": "#E5ECF6",
            "gridcolor": "white",
            "gridwidth": 2,
            "linecolor": "white",
            "showbackground": true,
            "ticks": "",
            "zerolinecolor": "white"
           }
          },
          "shapedefaults": {
           "line": {
            "color": "#2a3f5f"
           }
          },
          "ternary": {
           "aaxis": {
            "gridcolor": "white",
            "linecolor": "white",
            "ticks": ""
           },
           "baxis": {
            "gridcolor": "white",
            "linecolor": "white",
            "ticks": ""
           },
           "bgcolor": "#E5ECF6",
           "caxis": {
            "gridcolor": "white",
            "linecolor": "white",
            "ticks": ""
           }
          },
          "title": {
           "x": 0.05
          },
          "xaxis": {
           "automargin": true,
           "gridcolor": "white",
           "linecolor": "white",
           "ticks": "",
           "title": {
            "standoff": 15
           },
           "zerolinecolor": "white",
           "zerolinewidth": 2
          },
          "yaxis": {
           "automargin": true,
           "gridcolor": "white",
           "linecolor": "white",
           "ticks": "",
           "title": {
            "standoff": 15
           },
           "zerolinecolor": "white",
           "zerolinewidth": 2
          }
         }
        },
        "width": 700,
        "xaxis": {
         "anchor": "y",
         "autorange": true,
         "constrain": "domain",
         "domain": [
          0.4736842105263158,
          0.5263157894736842
         ],
         "range": [
          -0.5,
          0.5
         ],
         "scaleanchor": "y",
         "type": "category"
        },
        "yaxis": {
         "anchor": "x",
         "autorange": true,
         "constrain": "domain",
         "domain": [
          0,
          1
         ],
         "range": [
          19.5,
          -0.5
         ],
         "title": {
          "text": "Species"
         },
         "type": "category"
        }
       }
      },
      "image/png": "[encoded data removed]",
      "text/html": [
       "<div>                            <div id=\"f82fc07d-1cd7-408e-897f-3e78b9892edc\" class=\"plotly-graph-div\" style=\"height:700px; width:700px;\"></div>            <script type=\"text/javascript\">                require([\"plotly\"], function(Plotly) {                    window.PLOTLYENV=window.PLOTLYENV || {};                                    if (document.getElementById(\"f82fc07d-1cd7-408e-897f-3e78b9892edc\")) {                    Plotly.newPlot(                        \"f82fc07d-1cd7-408e-897f-3e78b9892edc\",                        [{\"coloraxis\":\"coloraxis\",\"name\":\"0\",\"x\":[\"test_fastq\"],\"y\":[\"Miniopterus bat coronavirus 1\",\"Lophivirus Xv2\",\"Malvastrum leaf curl deltasatellite\",\"Andrographis yellow vein leaf curl betasatellite\",\"Bat associated circovirus 13\",\"Heterobasidion partitivirus 1\",\"Coriovirus Cf1c\",\"Rosellinia necatrix partitivirus 2\",\"Primula malacoides virus 1\",\"Hibiscus latent Singapore virus\",\"Maize stripe tenuivirus\",\"Torque teno midi virus 5\",\"Crimson clover cryptic virus 2\",\"Woolly monkey sarcoma virus\",\"Red clover cryptic virus 2\",\"Heterobasidion partitivirus 15\",\"Heterobasidion partitivirus 3\",\"Pleurotus ostreatus virus 1\",\"Mamastrovirus 15\",\"Cacao swollen shoot CD virus\"],\"z\":[[99.8164],[72.4558],[7.42942],[3.33575],[2.8599099999999997],[1.69531423798509],[1.33260482332034],[1.23259938073996],[1.20405046914623],[1.17194],[1.14741693957115],[1.05985],[1.00040768140116],[0.98633],[0.9826401171303],[0.92566063742849],[0.9161854273389],[0.8408870489262701],[0.8258059999999999],[0.763571]],\"type\":\"heatmap\",\"xaxis\":\"x\",\"yaxis\":\"y\",\"hovertemplate\":\"x: %{x}<br>Species: %{y}<br>color: %{z}<extra></extra>\"}],                        {\"template\":{\"data\":{\"histogram2dcontour\":[{\"type\":\"histogram2dcontour\",\"colorbar\":{\"outlinewidth\":0,\"ticks\":\"\"},\"colorscale\":[[0.0,\"#0d0887\"],[0.1111111111111111,\"#46039f\"],[0.2222222222222222,\"#7201a8\"],[0.3333333333333333,\"#9c179e\"],[0.4444444444444444,\"#bd3786\"],[0.5555555555555556,\"#d8576b\"],[0.6666666666666666,\"#ed7953\"],[0.7777777777777778,\"#fb9f3a\"],[0.8888888888888888,\"#fdca26\"],[1.0,\"#f0f921\"]]}],\"choropleth\":[{\"type\":\"choropleth\",\"colorbar\":{\"outlinewidth\":0,\"ticks\":\"\"}}],\"histogram2d\":[{\"type\":\"histogram2d\",\"colorbar\":{\"outlinewidth\":0,\"ticks\":\"\"},\"colorscale\":[[0.0,\"#0d0887\"],[0.1111111111111111,\"#46039f\"],[0.2222222222222222,\"#7201a8\"],[0.3333333333333333,\"#9c179e\"],[0.4444444444444444,\"#bd3786\"],[0.5555555555555556,\"#d8576b\"],[0.6666666666666666,\"#ed7953\"],[0.7777777777777778,\"#fb9f3a\"],[0.8888888888888888,\"#fdca26\"],[1.0,\"#f0f921\"]]}],\"heatmap\":[{\"type\":\"heatmap\",\"colorbar\":{\"outlinewidth\":0,\"ticks\":\"\"},\"colorscale\":[[0.0,\"#0d0887\"],[0.1111111111111111,\"#46039f\"],[0.2222222222222222,\"#7201a8\"],[0.3333333333333333,\"#9c179e\"],[0.4444444444444444,\"#bd3786\"],[0.5555555555555556,\"#d8576b\"],[0.6666666666666666,\"#ed7953\"],[0.7777777777777778,\"#fb9f3a\"],[0.8888888888888888,\"#fdca26\"],[1.0,\"#f0f921\"]]}],\"heatmapgl\":[{\"type\":\"heatmapgl\",\"colorbar\":{\"outlinewidth\":0,\"ticks\":\"\"},\"colorscale\":[[0.0,\"#0d0887\"],[0.1111111111111111,\"#46039f\"],[0.2222222222222222,\"#7201a8\"],[0.3333333333333333,\"#9c179e\"],[0.4444444444444444,\"#bd3786\"],[0.5555555555555556,\"#d8576b\"],[0.6666666666666666,\"#ed7953\"],[0.7777777777777778,\"#fb9f3a\"],[0.8888888888888888,\"#fdca26\"],[1.0,\"#f0f921\"]]}],\"contourcarpet\":[{\"type\":\"contourcarpet\",\"colorbar\":{\"outlinewidth\":0,\"ticks\":\"\"}}],\"contour\":[{\"type\":\"contour\",\"colorbar\":{\"outlinewidth\":0,\"ticks\":\"\"},\"colorscale\":[[0.0,\"#0d0887\"],[0.1111111111111111,\"#46039f\"],[0.2222222222222222,\"#7201a8\"],[0.3333333333333333,\"#9c179e\"],[0.4444444444444444,\"#bd3786\"],[0.5555555555555556,\"#d8576b\"],[0.6666666666666666,\"#ed7953\"],[0.7777777777777778,\"#fb9f3a\"],[0.8888888888888888,\"#fdca26\"],[1.0,\"#f0f921\"]]}],\"surface\":[{\"type\":\"surface\",\"colorbar\":{\"outlinewidth\":0,\"ticks\":\"\"},\"colorscale\":[[0.0,\"#0d0887\"],[0.1111111111111111,\"#46039f\"],[0.2222222222222222,\"#7201a8\"],[0.3333333333333333,\"#9c179e\"],[0.4444444444444444,\"#bd3786\"],[0.5555555555555556,\"#d8576b\"],[0.6666666666666666,\"#ed7953\"],[0.7777777777777778,\"#fb9f3a\"],[0.8888888888888888,\"#fdca26\"],[1.0,\"#f0f921\"]]}],\"mesh3d\":[{\"type\":\"mesh3d\",\"colorbar\":{\"outlinewidth\":0,\"ticks\":\"\"}}],\"scatter\":[{\"fillpattern\":{\"fillmode\":\"overlay\",\"size\":10,\"solidity\":0.2},\"type\":\"scatter\"}],\"parcoords\":[{\"type\":\"parcoords\",\"line\":{\"colorbar\":{\"outlinewidth\":0,\"ticks\":\"\"}}}],\"scatterpolargl\":[{\"type\":\"scatterpolargl\",\"marker\":{\"colorbar\":{\"outlinewidth\":0,\"ticks\":\"\"}}}],\"bar\":[{\"error_x\":{\"color\":\"#2a3f5f\"},\"error_y\":{\"color\":\"#2a3f5f\"},\"marker\":{\"line\":{\"color\":\"#E5ECF6\",\"width\":0.5},\"pattern\":{\"fillmode\":\"overlay\",\"size\":10,\"solidity\":0.2}},\"type\":\"bar\"}],\"scattergeo\":[{\"type\":\"scattergeo\",\"marker\":{\"colorbar\":{\"outlinewidth\":0,\"ticks\":\"\"}}}],\"scatterpolar\":[{\"type\":\"scatterpolar\",\"marker\":{\"colorbar\":{\"outlinewidth\":0,\"ticks\":\"\"}}}],\"histogram\":[{\"marker\":{\"pattern\":{\"fillmode\":\"overlay\",\"size\":10,\"solidity\":0.2}},\"type\":\"histogram\"}],\"scattergl\":[{\"type\":\"scattergl\",\"marker\":{\"colorbar\":{\"outlinewidth\":0,\"ticks\":\"\"}}}],\"scatter3d\":[{\"type\":\"scatter3d\",\"line\":{\"colorbar\":{\"outlinewidth\":0,\"ticks\":\"\"}},\"marker\":{\"colorbar\":{\"outlinewidth\":0,\"ticks\":\"\"}}}],\"scattermapbox\":[{\"type\":\"scattermapbox\",\"marker\":{\"colorbar\":{\"outlinewidth\":0,\"ticks\":\"\"}}}],\"scatterternary\":[{\"type\":\"scatterternary\",\"marker\":{\"colorbar\":{\"outlinewidth\":0,\"ticks\":\"\"}}}],\"scattercarpet\":[{\"type\":\"scattercarpet\",\"marker\":{\"colorbar\":{\"outlinewidth\":0,\"ticks\":\"\"}}}],\"carpet\":[{\"aaxis\":{\"endlinecolor\":\"#2a3f5f\",\"gridcolor\":\"white\",\"linecolor\":\"white\",\"minorgridcolor\":\"white\",\"startlinecolor\":\"#2a3f5f\"},\"baxis\":{\"endlinecolor\":\"#2a3f5f\",\"gridcolor\":\"white\",\"linecolor\":\"white\",\"minorgridcolor\":\"white\",\"startlinecolor\":\"#2a3f5f\"},\"type\":\"carpet\"}],\"table\":[{\"cells\":{\"fill\":{\"color\":\"#EBF0F8\"},\"line\":{\"color\":\"white\"}},\"header\":{\"fill\":{\"color\":\"#C8D4E3\"},\"line\":{\"color\":\"white\"}},\"type\":\"table\"}],\"barpolar\":[{\"marker\":{\"line\":{\"color\":\"#E5ECF6\",\"width\":0.5},\"pattern\":{\"fillmode\":\"overlay\",\"size\":10,\"solidity\":0.2}},\"type\":\"barpolar\"}],\"pie\":[{\"automargin\":true,\"type\":\"pie\"}]},\"layout\":{\"autotypenumbers\":\"strict\",\"colorway\":[\"#636efa\",\"#EF553B\",\"#00cc96\",\"#ab63fa\",\"#FFA15A\",\"#19d3f3\",\"#FF6692\",\"#B6E880\",\"#FF97FF\",\"#FECB52\"],\"font\":{\"color\":\"#2a3f5f\"},\"hovermode\":\"closest\",\"hoverlabel\":{\"align\":\"left\"},\"paper_bgcolor\":\"white\",\"plot_bgcolor\":\"#E5ECF6\",\"polar\":{\"bgcolor\":\"#E5ECF6\",\"angularaxis\":{\"gridcolor\":\"white\",\"linecolor\":\"white\",\"ticks\":\"\"},\"radialaxis\":{\"gridcolor\":\"white\",\"linecolor\":\"white\",\"ticks\":\"\"}},\"ternary\":{\"bgcolor\":\"#E5ECF6\",\"aaxis\":{\"gridcolor\":\"white\",\"linecolor\":\"white\",\"ticks\":\"\"},\"baxis\":{\"gridcolor\":\"white\",\"linecolor\":\"white\",\"ticks\":\"\"},\"caxis\":{\"gridcolor\":\"white\",\"linecolor\":\"white\",\"ticks\":\"\"}},\"coloraxis\":{\"colorbar\":{\"outlinewidth\":0,\"ticks\":\"\"}},\"colorscale\":{\"sequential\":[[0.0,\"#0d0887\"],[0.1111111111111111,\"#46039f\"],[0.2222222222222222,\"#7201a8\"],[0.3333333333333333,\"#9c179e\"],[0.4444444444444444,\"#bd3786\"],[0.5555555555555556,\"#d8576b\"],[0.6666666666666666,\"#ed7953\"],[0.7777777777777778,\"#fb9f3a\"],[0.8888888888888888,\"#fdca26\"],[1.0,\"#f0f921\"]],\"sequentialminus\":[[0.0,\"#0d0887\"],[0.1111111111111111,\"#46039f\"],[0.2222222222222222,\"#7201a8\"],[0.3333333333333333,\"#9c179e\"],[0.4444444444444444,\"#bd3786\"],[0.5555555555555556,\"#d8576b\"],[0.6666666666666666,\"#ed7953\"],[0.7777777777777778,\"#fb9f3a\"],[0.8888888888888888,\"#fdca26\"],[1.0,\"#f0f921\"]],\"diverging\":[[0,\"#8e0152\"],[0.1,\"#c51b7d\"],[0.2,\"#de77ae\"],[0.3,\"#f1b6da\"],[0.4,\"#fde0ef\"],[0.5,\"#f7f7f7\"],[0.6,\"#e6f5d0\"],[0.7,\"#b8e186\"],[0.8,\"#7fbc41\"],[0.9,\"#4d9221\"],[1,\"#276419\"]]},\"xaxis\":{\"gridcolor\":\"white\",\"linecolor\":\"white\",\"ticks\":\"\",\"title\":{\"standoff\":15},\"zerolinecolor\":\"white\",\"automargin\":true,\"zerolinewidth\":2},\"yaxis\":{\"gridcolor\":\"white\",\"linecolor\":\"white\",\"ticks\":\"\",\"title\":{\"standoff\":15},\"zerolinecolor\":\"white\",\"automargin\":true,\"zerolinewidth\":2},\"scene\":{\"xaxis\":{\"backgroundcolor\":\"#E5ECF6\",\"gridcolor\":\"white\",\"linecolor\":\"white\",\"showbackground\":true,\"ticks\":\"\",\"zerolinecolor\":\"white\",\"gridwidth\":2},\"yaxis\":{\"backgroundcolor\":\"#E5ECF6\",\"gridcolor\":\"white\",\"linecolor\":\"white\",\"showbackground\":true,\"ticks\":\"\",\"zerolinecolor\":\"white\",\"gridwidth\":2},\"zaxis\":{\"backgroundcolor\":\"#E5ECF6\",\"gridcolor\":\"white\",\"linecolor\":\"white\",\"showbackground\":true,\"ticks\":\"\",\"zerolinecolor\":\"white\",\"gridwidth\":2}},\"shapedefaults\":{\"line\":{\"color\":\"#2a3f5f\"}},\"annotationdefaults\":{\"arrowcolor\":\"#2a3f5f\",\"arrowhead\":0,\"arrowwidth\":1},\"geo\":{\"bgcolor\":\"white\",\"landcolor\":\"#E5ECF6\",\"subunitcolor\":\"white\",\"showland\":true,\"showlakes\":true,\"lakecolor\":\"white\"},\"title\":{\"x\":0.05},\"mapbox\":{\"style\":\"light\"}}},\"xaxis\":{\"anchor\":\"y\",\"domain\":[0.0,1.0],\"scaleanchor\":\"y\",\"constrain\":\"domain\"},\"yaxis\":{\"anchor\":\"x\",\"domain\":[0.0,1.0],\"autorange\":\"reversed\",\"constrain\":\"domain\",\"title\":{\"text\":\"Species\"}},\"coloraxis\":{\"colorscale\":[[0.0,\"#0d0887\"],[0.1111111111111111,\"#46039f\"],[0.2222222222222222,\"#7201a8\"],[0.3333333333333333,\"#9c179e\"],[0.4444444444444444,\"#bd3786\"],[0.5555555555555556,\"#d8576b\"],[0.6666666666666666,\"#ed7953\"],[0.7777777777777778,\"#fb9f3a\"],[0.8888888888888888,\"#fdca26\"],[1.0,\"#f0f921\"]]},\"margin\":{\"t\":60},\"height\":700,\"width\":700},                        {\"responsive\": true}                    ).then(function(){\n",
       "                            \n",
       "var gd = document.getElementById('f82fc07d-1cd7-408e-897f-3e78b9892edc');\n",
       "var x = new MutationObserver(function (mutations, observer) {{\n",
       "        var display = window.getComputedStyle(gd).display;\n",
       "        if (!display || display === 'none') {{\n",
       "            console.log([gd, 'removed!']);\n",
       "            Plotly.purge(gd);\n",
       "            observer.disconnect();\n",
       "        }}\n",
       "}});\n",
       "\n",
       "// Listen for the removal of the full notebook cells\n",
       "var notebookContainer = gd.closest('#notebook-container');\n",
       "if (notebookContainer) {{\n",
       "    x.observe(notebookContainer, {childList: true});\n",
       "}}\n",
       "\n",
       "// Listen for the clearing of the current output cell\n",
       "var outputEl = gd.closest('.output');\n",
       "if (outputEl) {{\n",
       "    x.observe(outputEl, {childList: true});\n",
       "}}\n",
       "\n",
       "                        })                };                });            </script>        </div>"
      ]
     },
     "metadata": {},
     "output_type": "display_data"
    }
   ],
   "source": [
    "#plt.figure(figsize=(16, 8), dpi=130)\n",
    "px.imshow(sorted_df[:20]*100, width=700, height=700)\n",
    "#plt.title(f'Тепловая карта покрытия на ICTV на данных {dataset}')\n",
    "#plt.ylabel('Species sorted by max coverage')"
   ]
  },
  {
   "cell_type": "code",
   "execution_count": null,
   "id": "c4c255af-76f2-4297-802b-f822e64a34b1",
   "metadata": {
    "tags": []
   },
   "outputs": [
    {
     "ename": "IndexError",
     "evalue": "positional indexers are out-of-bounds",
     "output_type": "error",
     "traceback": [
      "\u001b[0;31m---------------------------------------------------------------------------\u001b[0m",
      "\u001b[0;31mIndexError\u001b[0m                                Traceback (most recent call last)",
      "Cell \u001b[0;32mIn[599], line 6\u001b[0m\n\u001b[1;32m      3\u001b[0m Z \u001b[38;5;241m=\u001b[39m linkage(data)\n\u001b[1;32m      5\u001b[0m \u001b[38;5;66;03m# sort rows of the table based on the clustering\u001b[39;00m\n\u001b[0;32m----> 6\u001b[0m sorted_data \u001b[38;5;241m=\u001b[39m \u001b[43mdata\u001b[49m\u001b[38;5;241;43m.\u001b[39;49m\u001b[43miloc\u001b[49m\u001b[43m[\u001b[49m\u001b[43mZ\u001b[49m\u001b[43m[\u001b[49m\u001b[43m:\u001b[49m\u001b[43m,\u001b[49m\u001b[43m \u001b[49m\u001b[38;5;241;43m0\u001b[39;49m\u001b[43m]\u001b[49m\u001b[43m,\u001b[49m\u001b[43m \u001b[49m\u001b[43m:\u001b[49m\u001b[43m]\u001b[49m\u001b[38;5;241m.\u001b[39mT\n",
      "File \u001b[0;32m~/anaconda3/envs/base2/lib/python3.11/site-packages/pandas/core/indexing.py:1097\u001b[0m, in \u001b[0;36m_LocationIndexer.__getitem__\u001b[0;34m(self, key)\u001b[0m\n\u001b[1;32m   1095\u001b[0m     \u001b[38;5;28;01mif\u001b[39;00m \u001b[38;5;28mself\u001b[39m\u001b[38;5;241m.\u001b[39m_is_scalar_access(key):\n\u001b[1;32m   1096\u001b[0m         \u001b[38;5;28;01mreturn\u001b[39;00m \u001b[38;5;28mself\u001b[39m\u001b[38;5;241m.\u001b[39mobj\u001b[38;5;241m.\u001b[39m_get_value(\u001b[38;5;241m*\u001b[39mkey, takeable\u001b[38;5;241m=\u001b[39m\u001b[38;5;28mself\u001b[39m\u001b[38;5;241m.\u001b[39m_takeable)\n\u001b[0;32m-> 1097\u001b[0m     \u001b[38;5;28;01mreturn\u001b[39;00m \u001b[38;5;28;43mself\u001b[39;49m\u001b[38;5;241;43m.\u001b[39;49m\u001b[43m_getitem_tuple\u001b[49m\u001b[43m(\u001b[49m\u001b[43mkey\u001b[49m\u001b[43m)\u001b[49m\n\u001b[1;32m   1098\u001b[0m \u001b[38;5;28;01melse\u001b[39;00m:\n\u001b[1;32m   1099\u001b[0m     \u001b[38;5;66;03m# we by definition only have the 0th axis\u001b[39;00m\n\u001b[1;32m   1100\u001b[0m     axis \u001b[38;5;241m=\u001b[39m \u001b[38;5;28mself\u001b[39m\u001b[38;5;241m.\u001b[39maxis \u001b[38;5;129;01mor\u001b[39;00m \u001b[38;5;241m0\u001b[39m\n",
      "File \u001b[0;32m~/anaconda3/envs/base2/lib/python3.11/site-packages/pandas/core/indexing.py:1594\u001b[0m, in \u001b[0;36m_iLocIndexer._getitem_tuple\u001b[0;34m(self, tup)\u001b[0m\n\u001b[1;32m   1593\u001b[0m \u001b[38;5;28;01mdef\u001b[39;00m \u001b[38;5;21m_getitem_tuple\u001b[39m(\u001b[38;5;28mself\u001b[39m, tup: \u001b[38;5;28mtuple\u001b[39m):\n\u001b[0;32m-> 1594\u001b[0m     tup \u001b[38;5;241m=\u001b[39m \u001b[38;5;28;43mself\u001b[39;49m\u001b[38;5;241;43m.\u001b[39;49m\u001b[43m_validate_tuple_indexer\u001b[49m\u001b[43m(\u001b[49m\u001b[43mtup\u001b[49m\u001b[43m)\u001b[49m\n\u001b[1;32m   1595\u001b[0m     \u001b[38;5;28;01mwith\u001b[39;00m suppress(IndexingError):\n\u001b[1;32m   1596\u001b[0m         \u001b[38;5;28;01mreturn\u001b[39;00m \u001b[38;5;28mself\u001b[39m\u001b[38;5;241m.\u001b[39m_getitem_lowerdim(tup)\n",
      "File \u001b[0;32m~/anaconda3/envs/base2/lib/python3.11/site-packages/pandas/core/indexing.py:904\u001b[0m, in \u001b[0;36m_LocationIndexer._validate_tuple_indexer\u001b[0;34m(self, key)\u001b[0m\n\u001b[1;32m    902\u001b[0m \u001b[38;5;28;01mfor\u001b[39;00m i, k \u001b[38;5;129;01min\u001b[39;00m \u001b[38;5;28menumerate\u001b[39m(key):\n\u001b[1;32m    903\u001b[0m     \u001b[38;5;28;01mtry\u001b[39;00m:\n\u001b[0;32m--> 904\u001b[0m         \u001b[38;5;28;43mself\u001b[39;49m\u001b[38;5;241;43m.\u001b[39;49m\u001b[43m_validate_key\u001b[49m\u001b[43m(\u001b[49m\u001b[43mk\u001b[49m\u001b[43m,\u001b[49m\u001b[43m \u001b[49m\u001b[43mi\u001b[49m\u001b[43m)\u001b[49m\n\u001b[1;32m    905\u001b[0m     \u001b[38;5;28;01mexcept\u001b[39;00m \u001b[38;5;167;01mValueError\u001b[39;00m \u001b[38;5;28;01mas\u001b[39;00m err:\n\u001b[1;32m    906\u001b[0m         \u001b[38;5;28;01mraise\u001b[39;00m \u001b[38;5;167;01mValueError\u001b[39;00m(\n\u001b[1;32m    907\u001b[0m             \u001b[38;5;124m\"\u001b[39m\u001b[38;5;124mLocation based indexing can only have \u001b[39m\u001b[38;5;124m\"\u001b[39m\n\u001b[1;32m    908\u001b[0m             \u001b[38;5;124mf\u001b[39m\u001b[38;5;124m\"\u001b[39m\u001b[38;5;124m[\u001b[39m\u001b[38;5;132;01m{\u001b[39;00m\u001b[38;5;28mself\u001b[39m\u001b[38;5;241m.\u001b[39m_valid_types\u001b[38;5;132;01m}\u001b[39;00m\u001b[38;5;124m] types\u001b[39m\u001b[38;5;124m\"\u001b[39m\n\u001b[1;32m    909\u001b[0m         ) \u001b[38;5;28;01mfrom\u001b[39;00m \u001b[38;5;21;01merr\u001b[39;00m\n",
      "File \u001b[0;32m~/anaconda3/envs/base2/lib/python3.11/site-packages/pandas/core/indexing.py:1516\u001b[0m, in \u001b[0;36m_iLocIndexer._validate_key\u001b[0;34m(self, key, axis)\u001b[0m\n\u001b[1;32m   1514\u001b[0m     \u001b[38;5;66;03m# check that the key does not exceed the maximum size of the index\u001b[39;00m\n\u001b[1;32m   1515\u001b[0m     \u001b[38;5;28;01mif\u001b[39;00m \u001b[38;5;28mlen\u001b[39m(arr) \u001b[38;5;129;01mand\u001b[39;00m (arr\u001b[38;5;241m.\u001b[39mmax() \u001b[38;5;241m>\u001b[39m\u001b[38;5;241m=\u001b[39m len_axis \u001b[38;5;129;01mor\u001b[39;00m arr\u001b[38;5;241m.\u001b[39mmin() \u001b[38;5;241m<\u001b[39m \u001b[38;5;241m-\u001b[39mlen_axis):\n\u001b[0;32m-> 1516\u001b[0m         \u001b[38;5;28;01mraise\u001b[39;00m \u001b[38;5;167;01mIndexError\u001b[39;00m(\u001b[38;5;124m\"\u001b[39m\u001b[38;5;124mpositional indexers are out-of-bounds\u001b[39m\u001b[38;5;124m\"\u001b[39m)\n\u001b[1;32m   1517\u001b[0m \u001b[38;5;28;01melse\u001b[39;00m:\n\u001b[1;32m   1518\u001b[0m     \u001b[38;5;28;01mraise\u001b[39;00m \u001b[38;5;167;01mValueError\u001b[39;00m(\u001b[38;5;124mf\u001b[39m\u001b[38;5;124m\"\u001b[39m\u001b[38;5;124mCan only index by location with a [\u001b[39m\u001b[38;5;132;01m{\u001b[39;00m\u001b[38;5;28mself\u001b[39m\u001b[38;5;241m.\u001b[39m_valid_types\u001b[38;5;132;01m}\u001b[39;00m\u001b[38;5;124m]\u001b[39m\u001b[38;5;124m\"\u001b[39m)\n",
      "\u001b[0;31mIndexError\u001b[0m: positional indexers are out-of-bounds"
     ]
    }
   ],
   "source": [
    "data = sorted_df[:40].T\n",
    "\n",
    "Z = linkage(data)\n",
    "\n",
    "# sort rows of the table based on the clustering\n",
    "sorted_data = data.iloc[Z[:, 0], :].T"
   ]
  },
  {
   "cell_type": "code",
   "execution_count": 600,
   "id": "74925cb9-1e3e-4f09-9301-7bddbdb0de27",
   "metadata": {
    "collapsed": true,
    "jupyter": {
     "outputs_hidden": true
    },
    "tags": []
   },
   "outputs": [
    {
     "data": {
      "text/html": [
       "<div>\n",
       "<style scoped>\n",
       "    .dataframe tbody tr th:only-of-type {\n",
       "        vertical-align: middle;\n",
       "    }\n",
       "\n",
       "    .dataframe tbody tr th {\n",
       "        vertical-align: top;\n",
       "    }\n",
       "\n",
       "    .dataframe thead th {\n",
       "        text-align: right;\n",
       "    }\n",
       "</style>\n",
       "<table border=\"1\" class=\"dataframe\">\n",
       "  <thead>\n",
       "    <tr style=\"text-align: right;\">\n",
       "      <th>Species</th>\n",
       "      <th>Cucumber green mottle mosaic virus</th>\n",
       "      <th>Lambdavirus lambda</th>\n",
       "      <th>Hedgehog coronavirus 1</th>\n",
       "      <th>Carrot cryptic virus</th>\n",
       "      <th>Unuamitovirus alar1</th>\n",
       "      <th>Tomato mosaic virus</th>\n",
       "      <th>Escherichia virus DE3</th>\n",
       "      <th>Lambdavirus lvO276</th>\n",
       "      <th>Lambdavirus HK630</th>\n",
       "      <th>Deformed wing virus</th>\n",
       "      <th>...</th>\n",
       "      <th>Duamitovirus scni2</th>\n",
       "      <th>Nesevirus ev243</th>\n",
       "      <th>Magoulivirus zetaplasmoparae</th>\n",
       "      <th>Pseudotevenvirus RB43</th>\n",
       "      <th>Finkel-Biskis-Jinkins murine sarcoma virus</th>\n",
       "      <th>Woolly monkey sarcoma virus</th>\n",
       "      <th>Wasabi mottle virus</th>\n",
       "      <th>Alxa mammarenavirus</th>\n",
       "      <th>Phietavirus pv37</th>\n",
       "      <th>Radostvirus ev099</th>\n",
       "    </tr>\n",
       "  </thead>\n",
       "  <tbody>\n",
       "    <tr>\n",
       "      <th>F350009910_1_L02_63</th>\n",
       "      <td>0.060243</td>\n",
       "      <td>0.309616</td>\n",
       "      <td>0.980629</td>\n",
       "      <td>0.005071</td>\n",
       "      <td>0.078212</td>\n",
       "      <td>0.069090</td>\n",
       "      <td>0.172044</td>\n",
       "      <td>0.223236</td>\n",
       "      <td>0.231026</td>\n",
       "      <td>0.001874</td>\n",
       "      <td>...</td>\n",
       "      <td>0.022842</td>\n",
       "      <td>0.041198</td>\n",
       "      <td>0.178433</td>\n",
       "      <td>0.215003</td>\n",
       "      <td>0.072947</td>\n",
       "      <td>0.011248</td>\n",
       "      <td>0.012702</td>\n",
       "      <td>0.179949</td>\n",
       "      <td>0.009157</td>\n",
       "      <td>0.014018</td>\n",
       "    </tr>\n",
       "    <tr>\n",
       "      <th>F350009910_1_L02_60</th>\n",
       "      <td>0.379359</td>\n",
       "      <td>0.949837</td>\n",
       "      <td>0.074599</td>\n",
       "      <td>0.000000</td>\n",
       "      <td>0.115722</td>\n",
       "      <td>0.009087</td>\n",
       "      <td>0.787420</td>\n",
       "      <td>0.787843</td>\n",
       "      <td>0.786090</td>\n",
       "      <td>0.005720</td>\n",
       "      <td>...</td>\n",
       "      <td>0.000000</td>\n",
       "      <td>0.155904</td>\n",
       "      <td>0.000000</td>\n",
       "      <td>0.002183</td>\n",
       "      <td>0.163212</td>\n",
       "      <td>0.018515</td>\n",
       "      <td>0.035090</td>\n",
       "      <td>0.003777</td>\n",
       "      <td>0.008974</td>\n",
       "      <td>0.056878</td>\n",
       "    </tr>\n",
       "    <tr>\n",
       "      <th>F350010037_L12_43</th>\n",
       "      <td>0.030355</td>\n",
       "      <td>0.000000</td>\n",
       "      <td>0.000697</td>\n",
       "      <td>0.000000</td>\n",
       "      <td>0.000000</td>\n",
       "      <td>0.000000</td>\n",
       "      <td>0.000000</td>\n",
       "      <td>0.000000</td>\n",
       "      <td>0.000000</td>\n",
       "      <td>0.000000</td>\n",
       "      <td>...</td>\n",
       "      <td>0.000000</td>\n",
       "      <td>0.000000</td>\n",
       "      <td>0.000000</td>\n",
       "      <td>0.000000</td>\n",
       "      <td>0.066387</td>\n",
       "      <td>0.010901</td>\n",
       "      <td>0.000000</td>\n",
       "      <td>0.000000</td>\n",
       "      <td>0.000000</td>\n",
       "      <td>0.000000</td>\n",
       "    </tr>\n",
       "    <tr>\n",
       "      <th>F350009910_1_L01_14</th>\n",
       "      <td>0.004670</td>\n",
       "      <td>0.000412</td>\n",
       "      <td>0.000630</td>\n",
       "      <td>0.000000</td>\n",
       "      <td>0.000000</td>\n",
       "      <td>0.003133</td>\n",
       "      <td>0.000000</td>\n",
       "      <td>0.000477</td>\n",
       "      <td>0.000467</td>\n",
       "      <td>0.000000</td>\n",
       "      <td>...</td>\n",
       "      <td>0.000000</td>\n",
       "      <td>0.000000</td>\n",
       "      <td>0.000000</td>\n",
       "      <td>0.000216</td>\n",
       "      <td>0.063500</td>\n",
       "      <td>0.009690</td>\n",
       "      <td>0.000000</td>\n",
       "      <td>0.001888</td>\n",
       "      <td>0.000870</td>\n",
       "      <td>0.000402</td>\n",
       "    </tr>\n",
       "    <tr>\n",
       "      <th>F350010037_L12_2</th>\n",
       "      <td>0.153487</td>\n",
       "      <td>0.000000</td>\n",
       "      <td>0.000000</td>\n",
       "      <td>0.000000</td>\n",
       "      <td>0.622506</td>\n",
       "      <td>0.000000</td>\n",
       "      <td>0.000000</td>\n",
       "      <td>0.002383</td>\n",
       "      <td>0.000000</td>\n",
       "      <td>0.000000</td>\n",
       "      <td>...</td>\n",
       "      <td>0.000000</td>\n",
       "      <td>0.000000</td>\n",
       "      <td>0.000000</td>\n",
       "      <td>0.000000</td>\n",
       "      <td>0.101286</td>\n",
       "      <td>0.000000</td>\n",
       "      <td>0.126866</td>\n",
       "      <td>0.000000</td>\n",
       "      <td>0.000000</td>\n",
       "      <td>0.000000</td>\n",
       "    </tr>\n",
       "    <tr>\n",
       "      <th>...</th>\n",
       "      <td>...</td>\n",
       "      <td>...</td>\n",
       "      <td>...</td>\n",
       "      <td>...</td>\n",
       "      <td>...</td>\n",
       "      <td>...</td>\n",
       "      <td>...</td>\n",
       "      <td>...</td>\n",
       "      <td>...</td>\n",
       "      <td>...</td>\n",
       "      <td>...</td>\n",
       "      <td>...</td>\n",
       "      <td>...</td>\n",
       "      <td>...</td>\n",
       "      <td>...</td>\n",
       "      <td>...</td>\n",
       "      <td>...</td>\n",
       "      <td>...</td>\n",
       "      <td>...</td>\n",
       "      <td>...</td>\n",
       "      <td>...</td>\n",
       "    </tr>\n",
       "    <tr>\n",
       "      <th>F350009910_1_L02_undecoded</th>\n",
       "      <td>0.029421</td>\n",
       "      <td>0.121129</td>\n",
       "      <td>0.973199</td>\n",
       "      <td>0.000000</td>\n",
       "      <td>0.276137</td>\n",
       "      <td>0.034467</td>\n",
       "      <td>0.056308</td>\n",
       "      <td>0.096333</td>\n",
       "      <td>0.062221</td>\n",
       "      <td>0.000000</td>\n",
       "      <td>...</td>\n",
       "      <td>0.000000</td>\n",
       "      <td>0.028161</td>\n",
       "      <td>0.000000</td>\n",
       "      <td>0.014033</td>\n",
       "      <td>0.064025</td>\n",
       "      <td>0.011248</td>\n",
       "      <td>0.029692</td>\n",
       "      <td>0.107913</td>\n",
       "      <td>0.008081</td>\n",
       "      <td>0.000000</td>\n",
       "    </tr>\n",
       "    <tr>\n",
       "      <th>F350009910_1_L01_41</th>\n",
       "      <td>0.000000</td>\n",
       "      <td>0.000000</td>\n",
       "      <td>0.000000</td>\n",
       "      <td>0.000000</td>\n",
       "      <td>0.000000</td>\n",
       "      <td>0.000000</td>\n",
       "      <td>0.000000</td>\n",
       "      <td>0.000000</td>\n",
       "      <td>0.000000</td>\n",
       "      <td>0.000000</td>\n",
       "      <td>...</td>\n",
       "      <td>0.000000</td>\n",
       "      <td>0.000000</td>\n",
       "      <td>0.000000</td>\n",
       "      <td>0.000000</td>\n",
       "      <td>0.000000</td>\n",
       "      <td>0.000000</td>\n",
       "      <td>0.000000</td>\n",
       "      <td>0.000000</td>\n",
       "      <td>0.000000</td>\n",
       "      <td>0.000000</td>\n",
       "    </tr>\n",
       "    <tr>\n",
       "      <th>F350009910_1_L02_52</th>\n",
       "      <td>0.000000</td>\n",
       "      <td>0.000000</td>\n",
       "      <td>0.041694</td>\n",
       "      <td>0.000000</td>\n",
       "      <td>0.000000</td>\n",
       "      <td>0.000000</td>\n",
       "      <td>0.000000</td>\n",
       "      <td>0.000000</td>\n",
       "      <td>0.000000</td>\n",
       "      <td>0.000000</td>\n",
       "      <td>...</td>\n",
       "      <td>0.000000</td>\n",
       "      <td>0.000000</td>\n",
       "      <td>0.000000</td>\n",
       "      <td>0.000000</td>\n",
       "      <td>0.000000</td>\n",
       "      <td>0.000000</td>\n",
       "      <td>0.000000</td>\n",
       "      <td>0.000000</td>\n",
       "      <td>0.000000</td>\n",
       "      <td>0.000000</td>\n",
       "    </tr>\n",
       "    <tr>\n",
       "      <th>F350009910_1_L01_104</th>\n",
       "      <td>0.000000</td>\n",
       "      <td>0.000000</td>\n",
       "      <td>0.000000</td>\n",
       "      <td>0.000000</td>\n",
       "      <td>0.000000</td>\n",
       "      <td>0.000000</td>\n",
       "      <td>0.000000</td>\n",
       "      <td>0.000000</td>\n",
       "      <td>0.000000</td>\n",
       "      <td>0.000000</td>\n",
       "      <td>...</td>\n",
       "      <td>0.000000</td>\n",
       "      <td>0.002349</td>\n",
       "      <td>0.000000</td>\n",
       "      <td>0.000122</td>\n",
       "      <td>0.000000</td>\n",
       "      <td>0.000000</td>\n",
       "      <td>0.000000</td>\n",
       "      <td>0.000000</td>\n",
       "      <td>0.000000</td>\n",
       "      <td>0.000000</td>\n",
       "    </tr>\n",
       "    <tr>\n",
       "      <th>F350009910_1_L02_2</th>\n",
       "      <td>0.000000</td>\n",
       "      <td>0.000000</td>\n",
       "      <td>0.000000</td>\n",
       "      <td>0.000000</td>\n",
       "      <td>0.000000</td>\n",
       "      <td>0.000000</td>\n",
       "      <td>0.000000</td>\n",
       "      <td>0.000000</td>\n",
       "      <td>0.000000</td>\n",
       "      <td>0.000000</td>\n",
       "      <td>...</td>\n",
       "      <td>0.000000</td>\n",
       "      <td>0.000000</td>\n",
       "      <td>0.000000</td>\n",
       "      <td>0.000000</td>\n",
       "      <td>0.000000</td>\n",
       "      <td>0.000000</td>\n",
       "      <td>0.000000</td>\n",
       "      <td>0.000000</td>\n",
       "      <td>0.000000</td>\n",
       "      <td>0.000000</td>\n",
       "    </tr>\n",
       "  </tbody>\n",
       "</table>\n",
       "<p>102 rows × 40 columns</p>\n",
       "</div>"
      ],
      "text/plain": [
       "Species                     Cucumber green mottle mosaic virus   \n",
       "F350009910_1_L02_63                                   0.060243  \\\n",
       "F350009910_1_L02_60                                   0.379359   \n",
       "F350010037_L12_43                                     0.030355   \n",
       "F350009910_1_L01_14                                   0.004670   \n",
       "F350010037_L12_2                                      0.153487   \n",
       "...                                                        ...   \n",
       "F350009910_1_L02_undecoded                            0.029421   \n",
       "F350009910_1_L01_41                                   0.000000   \n",
       "F350009910_1_L02_52                                   0.000000   \n",
       "F350009910_1_L01_104                                  0.000000   \n",
       "F350009910_1_L02_2                                    0.000000   \n",
       "\n",
       "Species                     Lambdavirus lambda  Hedgehog coronavirus 1   \n",
       "F350009910_1_L02_63                   0.309616                0.980629  \\\n",
       "F350009910_1_L02_60                   0.949837                0.074599   \n",
       "F350010037_L12_43                     0.000000                0.000697   \n",
       "F350009910_1_L01_14                   0.000412                0.000630   \n",
       "F350010037_L12_2                      0.000000                0.000000   \n",
       "...                                        ...                     ...   \n",
       "F350009910_1_L02_undecoded            0.121129                0.973199   \n",
       "F350009910_1_L01_41                   0.000000                0.000000   \n",
       "F350009910_1_L02_52                   0.000000                0.041694   \n",
       "F350009910_1_L01_104                  0.000000                0.000000   \n",
       "F350009910_1_L02_2                    0.000000                0.000000   \n",
       "\n",
       "Species                     Carrot cryptic virus  Unuamitovirus alar1   \n",
       "F350009910_1_L02_63                     0.005071             0.078212  \\\n",
       "F350009910_1_L02_60                     0.000000             0.115722   \n",
       "F350010037_L12_43                       0.000000             0.000000   \n",
       "F350009910_1_L01_14                     0.000000             0.000000   \n",
       "F350010037_L12_2                        0.000000             0.622506   \n",
       "...                                          ...                  ...   \n",
       "F350009910_1_L02_undecoded              0.000000             0.276137   \n",
       "F350009910_1_L01_41                     0.000000             0.000000   \n",
       "F350009910_1_L02_52                     0.000000             0.000000   \n",
       "F350009910_1_L01_104                    0.000000             0.000000   \n",
       "F350009910_1_L02_2                      0.000000             0.000000   \n",
       "\n",
       "Species                     Tomato mosaic virus  Escherichia virus DE3   \n",
       "F350009910_1_L02_63                    0.069090               0.172044  \\\n",
       "F350009910_1_L02_60                    0.009087               0.787420   \n",
       "F350010037_L12_43                      0.000000               0.000000   \n",
       "F350009910_1_L01_14                    0.003133               0.000000   \n",
       "F350010037_L12_2                       0.000000               0.000000   \n",
       "...                                         ...                    ...   \n",
       "F350009910_1_L02_undecoded             0.034467               0.056308   \n",
       "F350009910_1_L01_41                    0.000000               0.000000   \n",
       "F350009910_1_L02_52                    0.000000               0.000000   \n",
       "F350009910_1_L01_104                   0.000000               0.000000   \n",
       "F350009910_1_L02_2                     0.000000               0.000000   \n",
       "\n",
       "Species                     Lambdavirus lvO276  Lambdavirus HK630   \n",
       "F350009910_1_L02_63                   0.223236           0.231026  \\\n",
       "F350009910_1_L02_60                   0.787843           0.786090   \n",
       "F350010037_L12_43                     0.000000           0.000000   \n",
       "F350009910_1_L01_14                   0.000477           0.000467   \n",
       "F350010037_L12_2                      0.002383           0.000000   \n",
       "...                                        ...                ...   \n",
       "F350009910_1_L02_undecoded            0.096333           0.062221   \n",
       "F350009910_1_L01_41                   0.000000           0.000000   \n",
       "F350009910_1_L02_52                   0.000000           0.000000   \n",
       "F350009910_1_L01_104                  0.000000           0.000000   \n",
       "F350009910_1_L02_2                    0.000000           0.000000   \n",
       "\n",
       "Species                     Deformed wing virus  ...  Duamitovirus scni2   \n",
       "F350009910_1_L02_63                    0.001874  ...            0.022842  \\\n",
       "F350009910_1_L02_60                    0.005720  ...            0.000000   \n",
       "F350010037_L12_43                      0.000000  ...            0.000000   \n",
       "F350009910_1_L01_14                    0.000000  ...            0.000000   \n",
       "F350010037_L12_2                       0.000000  ...            0.000000   \n",
       "...                                         ...  ...                 ...   \n",
       "F350009910_1_L02_undecoded             0.000000  ...            0.000000   \n",
       "F350009910_1_L01_41                    0.000000  ...            0.000000   \n",
       "F350009910_1_L02_52                    0.000000  ...            0.000000   \n",
       "F350009910_1_L01_104                   0.000000  ...            0.000000   \n",
       "F350009910_1_L02_2                     0.000000  ...            0.000000   \n",
       "\n",
       "Species                     Nesevirus ev243  Magoulivirus zetaplasmoparae   \n",
       "F350009910_1_L02_63                0.041198                      0.178433  \\\n",
       "F350009910_1_L02_60                0.155904                      0.000000   \n",
       "F350010037_L12_43                  0.000000                      0.000000   \n",
       "F350009910_1_L01_14                0.000000                      0.000000   \n",
       "F350010037_L12_2                   0.000000                      0.000000   \n",
       "...                                     ...                           ...   \n",
       "F350009910_1_L02_undecoded         0.028161                      0.000000   \n",
       "F350009910_1_L01_41                0.000000                      0.000000   \n",
       "F350009910_1_L02_52                0.000000                      0.000000   \n",
       "F350009910_1_L01_104               0.002349                      0.000000   \n",
       "F350009910_1_L02_2                 0.000000                      0.000000   \n",
       "\n",
       "Species                     Pseudotevenvirus RB43   \n",
       "F350009910_1_L02_63                      0.215003  \\\n",
       "F350009910_1_L02_60                      0.002183   \n",
       "F350010037_L12_43                        0.000000   \n",
       "F350009910_1_L01_14                      0.000216   \n",
       "F350010037_L12_2                         0.000000   \n",
       "...                                           ...   \n",
       "F350009910_1_L02_undecoded               0.014033   \n",
       "F350009910_1_L01_41                      0.000000   \n",
       "F350009910_1_L02_52                      0.000000   \n",
       "F350009910_1_L01_104                     0.000122   \n",
       "F350009910_1_L02_2                       0.000000   \n",
       "\n",
       "Species                     Finkel-Biskis-Jinkins murine sarcoma virus   \n",
       "F350009910_1_L02_63                                           0.072947  \\\n",
       "F350009910_1_L02_60                                           0.163212   \n",
       "F350010037_L12_43                                             0.066387   \n",
       "F350009910_1_L01_14                                           0.063500   \n",
       "F350010037_L12_2                                              0.101286   \n",
       "...                                                                ...   \n",
       "F350009910_1_L02_undecoded                                    0.064025   \n",
       "F350009910_1_L01_41                                           0.000000   \n",
       "F350009910_1_L02_52                                           0.000000   \n",
       "F350009910_1_L01_104                                          0.000000   \n",
       "F350009910_1_L02_2                                            0.000000   \n",
       "\n",
       "Species                     Woolly monkey sarcoma virus  Wasabi mottle virus   \n",
       "F350009910_1_L02_63                            0.011248             0.012702  \\\n",
       "F350009910_1_L02_60                            0.018515             0.035090   \n",
       "F350010037_L12_43                              0.010901             0.000000   \n",
       "F350009910_1_L01_14                            0.009690             0.000000   \n",
       "F350010037_L12_2                               0.000000             0.126866   \n",
       "...                                                 ...                  ...   \n",
       "F350009910_1_L02_undecoded                     0.011248             0.029692   \n",
       "F350009910_1_L01_41                            0.000000             0.000000   \n",
       "F350009910_1_L02_52                            0.000000             0.000000   \n",
       "F350009910_1_L01_104                           0.000000             0.000000   \n",
       "F350009910_1_L02_2                             0.000000             0.000000   \n",
       "\n",
       "Species                     Alxa mammarenavirus  Phietavirus pv37   \n",
       "F350009910_1_L02_63                    0.179949          0.009157  \\\n",
       "F350009910_1_L02_60                    0.003777          0.008974   \n",
       "F350010037_L12_43                      0.000000          0.000000   \n",
       "F350009910_1_L01_14                    0.001888          0.000870   \n",
       "F350010037_L12_2                       0.000000          0.000000   \n",
       "...                                         ...               ...   \n",
       "F350009910_1_L02_undecoded             0.107913          0.008081   \n",
       "F350009910_1_L01_41                    0.000000          0.000000   \n",
       "F350009910_1_L02_52                    0.000000          0.000000   \n",
       "F350009910_1_L01_104                   0.000000          0.000000   \n",
       "F350009910_1_L02_2                     0.000000          0.000000   \n",
       "\n",
       "Species                     Radostvirus ev099  \n",
       "F350009910_1_L02_63                  0.014018  \n",
       "F350009910_1_L02_60                  0.056878  \n",
       "F350010037_L12_43                    0.000000  \n",
       "F350009910_1_L01_14                  0.000402  \n",
       "F350010037_L12_2                     0.000000  \n",
       "...                                       ...  \n",
       "F350009910_1_L02_undecoded           0.000000  \n",
       "F350009910_1_L01_41                  0.000000  \n",
       "F350009910_1_L02_52                  0.000000  \n",
       "F350009910_1_L01_104                 0.000000  \n",
       "F350009910_1_L02_2                   0.000000  \n",
       "\n",
       "[102 rows x 40 columns]"
      ]
     },
     "execution_count": 600,
     "metadata": {},
     "output_type": "execute_result"
    }
   ],
   "source": [
    "sorted_df[:40].T"
   ]
  },
  {
   "cell_type": "code",
   "execution_count": 565,
   "id": "60645440-e0f7-4be5-a734-38154c5acc7e",
   "metadata": {},
   "outputs": [
    {
     "data": {
      "text/plain": [
       "Text(92.13888888888886, 0.5, 'Species sorted by max coverage')"
      ]
     },
     "execution_count": 565,
     "metadata": {},
     "output_type": "execute_result"
    },
    {
     "data": {
      "image/png": "[encoded data removed]",
      "text/plain": [
       "<Figure size 1040x1040 with 2 Axes>"
      ]
     },
     "metadata": {},
     "output_type": "display_data"
    }
   ],
   "source": [
    "plt.figure(figsize=(8, 8), dpi=130)\n",
    "sns.heatmap(sorted_data, cmap=\"crest\")\n",
    "plt.title(f'Тепловая карта покрытия на ICTV на данных {dataset}')\n",
    "plt.ylabel('Species sorted by max coverage')"
   ]
  },
  {
   "cell_type": "code",
   "execution_count": 733,
   "id": "08c55c7a-346b-46df-a84f-59e6522c81bc",
   "metadata": {},
   "outputs": [
    {
     "data": {
      "text/html": [
       "<div>\n",
       "<style scoped>\n",
       "    .dataframe tbody tr th:only-of-type {\n",
       "        vertical-align: middle;\n",
       "    }\n",
       "\n",
       "    .dataframe tbody tr th {\n",
       "        vertical-align: top;\n",
       "    }\n",
       "\n",
       "    .dataframe thead th {\n",
       "        text-align: right;\n",
       "    }\n",
       "</style>\n",
       "<table border=\"1\" class=\"dataframe\">\n",
       "  <thead>\n",
       "    <tr style=\"text-align: right;\">\n",
       "      <th></th>\n",
       "      <th>bat22-2015</th>\n",
       "      <th>bat33-2015</th>\n",
       "      <th>Bats2015_16_S1</th>\n",
       "      <th>Bats2015_30_S6</th>\n",
       "      <th>Bats2015_21_S4</th>\n",
       "      <th>Bats2015_31_S7</th>\n",
       "      <th>Bats2015_19_S2</th>\n",
       "      <th>Bats2015_27_S5</th>\n",
       "      <th>bat2-2015</th>\n",
       "      <th>bat6-2015</th>\n",
       "      <th>Bats2015_20_S3</th>\n",
       "      <th>bat23-2015</th>\n",
       "    </tr>\n",
       "    <tr>\n",
       "      <th>Species</th>\n",
       "      <th></th>\n",
       "      <th></th>\n",
       "      <th></th>\n",
       "      <th></th>\n",
       "      <th></th>\n",
       "      <th></th>\n",
       "      <th></th>\n",
       "      <th></th>\n",
       "      <th></th>\n",
       "      <th></th>\n",
       "      <th></th>\n",
       "      <th></th>\n",
       "    </tr>\n",
       "  </thead>\n",
       "  <tbody>\n",
       "    <tr>\n",
       "      <th>Sinsheimervirus phiX174</th>\n",
       "      <td>1.000000</td>\n",
       "      <td>1.000000</td>\n",
       "      <td>1.000000</td>\n",
       "      <td>1.000000</td>\n",
       "      <td>1.000000</td>\n",
       "      <td>1.000000</td>\n",
       "      <td>1.000000</td>\n",
       "      <td>1.000000</td>\n",
       "      <td>1.000000</td>\n",
       "      <td>1.000000</td>\n",
       "      <td>1.000000</td>\n",
       "      <td>1.000000</td>\n",
       "    </tr>\n",
       "    <tr>\n",
       "      <th>Middle East respiratory syndrome-related coronavirus</th>\n",
       "      <td>0.341446</td>\n",
       "      <td>0.134367</td>\n",
       "      <td>0.016402</td>\n",
       "      <td>0.007006</td>\n",
       "      <td>0.166506</td>\n",
       "      <td>0.029516</td>\n",
       "      <td>0.025698</td>\n",
       "      <td>0.060759</td>\n",
       "      <td>0.012617</td>\n",
       "      <td>0.011056</td>\n",
       "      <td>0.021282</td>\n",
       "      <td>0.018261</td>\n",
       "    </tr>\n",
       "    <tr>\n",
       "      <th>Murine leukemia virus</th>\n",
       "      <td>0.283245</td>\n",
       "      <td>0.264762</td>\n",
       "      <td>0.244239</td>\n",
       "      <td>0.255161</td>\n",
       "      <td>0.247000</td>\n",
       "      <td>0.264042</td>\n",
       "      <td>0.265362</td>\n",
       "      <td>0.262842</td>\n",
       "      <td>0.248920</td>\n",
       "      <td>0.244239</td>\n",
       "      <td>0.253481</td>\n",
       "      <td>0.249040</td>\n",
       "    </tr>\n",
       "    <tr>\n",
       "      <th>Heterocapsa circularisquama DNA virus 01</th>\n",
       "      <td>0.207931</td>\n",
       "      <td>0.290000</td>\n",
       "      <td>0.080345</td>\n",
       "      <td>0.151897</td>\n",
       "      <td>0.054138</td>\n",
       "      <td>0.261207</td>\n",
       "      <td>0.215345</td>\n",
       "      <td>0.410172</td>\n",
       "      <td>0.148448</td>\n",
       "      <td>0.128103</td>\n",
       "      <td>0.126034</td>\n",
       "      <td>0.208793</td>\n",
       "    </tr>\n",
       "    <tr>\n",
       "      <th>Amsacta moorei entomopoxvirus</th>\n",
       "      <td>0.201625</td>\n",
       "      <td>0.198161</td>\n",
       "      <td>0.076440</td>\n",
       "      <td>0.140870</td>\n",
       "      <td>0.054365</td>\n",
       "      <td>0.229621</td>\n",
       "      <td>0.209207</td>\n",
       "      <td>0.239191</td>\n",
       "      <td>0.135246</td>\n",
       "      <td>0.116781</td>\n",
       "      <td>0.133671</td>\n",
       "      <td>0.215481</td>\n",
       "    </tr>\n",
       "    <tr>\n",
       "      <th>...</th>\n",
       "      <td>...</td>\n",
       "      <td>...</td>\n",
       "      <td>...</td>\n",
       "      <td>...</td>\n",
       "      <td>...</td>\n",
       "      <td>...</td>\n",
       "      <td>...</td>\n",
       "      <td>...</td>\n",
       "      <td>...</td>\n",
       "      <td>...</td>\n",
       "      <td>...</td>\n",
       "      <td>...</td>\n",
       "    </tr>\n",
       "    <tr>\n",
       "      <th>Alehxovirus humivivens</th>\n",
       "      <td>0.000000</td>\n",
       "      <td>0.005618</td>\n",
       "      <td>0.000000</td>\n",
       "      <td>0.005618</td>\n",
       "      <td>0.010166</td>\n",
       "      <td>0.039058</td>\n",
       "      <td>0.015249</td>\n",
       "      <td>0.015249</td>\n",
       "      <td>0.015784</td>\n",
       "      <td>0.000000</td>\n",
       "      <td>0.000000</td>\n",
       "      <td>0.000000</td>\n",
       "    </tr>\n",
       "    <tr>\n",
       "      <th>Gyrovirus galga2</th>\n",
       "      <td>0.000000</td>\n",
       "      <td>0.000000</td>\n",
       "      <td>0.000000</td>\n",
       "      <td>0.000000</td>\n",
       "      <td>0.000000</td>\n",
       "      <td>0.007790</td>\n",
       "      <td>0.008200</td>\n",
       "      <td>0.000000</td>\n",
       "      <td>0.038950</td>\n",
       "      <td>0.000000</td>\n",
       "      <td>0.016400</td>\n",
       "      <td>0.008200</td>\n",
       "    </tr>\n",
       "    <tr>\n",
       "      <th>Gemycircularvirus austro6</th>\n",
       "      <td>0.000000</td>\n",
       "      <td>0.000000</td>\n",
       "      <td>0.025327</td>\n",
       "      <td>0.008297</td>\n",
       "      <td>0.017467</td>\n",
       "      <td>0.024891</td>\n",
       "      <td>0.034061</td>\n",
       "      <td>0.008734</td>\n",
       "      <td>0.016594</td>\n",
       "      <td>0.000000</td>\n",
       "      <td>0.000000</td>\n",
       "      <td>0.025327</td>\n",
       "    </tr>\n",
       "    <tr>\n",
       "      <th>Cymbidium ringspot virus</th>\n",
       "      <td>0.000000</td>\n",
       "      <td>0.000000</td>\n",
       "      <td>0.004226</td>\n",
       "      <td>0.020706</td>\n",
       "      <td>0.020494</td>\n",
       "      <td>0.012466</td>\n",
       "      <td>0.004226</td>\n",
       "      <td>0.012466</td>\n",
       "      <td>0.004014</td>\n",
       "      <td>0.000000</td>\n",
       "      <td>0.008029</td>\n",
       "      <td>0.004014</td>\n",
       "    </tr>\n",
       "    <tr>\n",
       "      <th>Cehakivirus limihabitans</th>\n",
       "      <td>0.000000</td>\n",
       "      <td>0.005319</td>\n",
       "      <td>0.010106</td>\n",
       "      <td>0.020479</td>\n",
       "      <td>0.010638</td>\n",
       "      <td>0.010904</td>\n",
       "      <td>0.005319</td>\n",
       "      <td>0.030319</td>\n",
       "      <td>0.010106</td>\n",
       "      <td>0.005319</td>\n",
       "      <td>0.015425</td>\n",
       "      <td>0.020479</td>\n",
       "    </tr>\n",
       "  </tbody>\n",
       "</table>\n",
       "<p>10158 rows × 12 columns</p>\n",
       "</div>"
      ],
      "text/plain": [
       "                                                    bat22-2015  bat33-2015   \n",
       "Species                                                                      \n",
       "Sinsheimervirus phiX174                               1.000000    1.000000  \\\n",
       "Middle East respiratory syndrome-related corona...    0.341446    0.134367   \n",
       "Murine leukemia virus                                 0.283245    0.264762   \n",
       "Heterocapsa circularisquama DNA virus 01              0.207931    0.290000   \n",
       "Amsacta moorei entomopoxvirus                         0.201625    0.198161   \n",
       "...                                                        ...         ...   \n",
       "Alehxovirus humivivens                                0.000000    0.005618   \n",
       "Gyrovirus galga2                                      0.000000    0.000000   \n",
       "Gemycircularvirus austro6                             0.000000    0.000000   \n",
       "Cymbidium ringspot virus                              0.000000    0.000000   \n",
       "Cehakivirus limihabitans                              0.000000    0.005319   \n",
       "\n",
       "                                                    Bats2015_16_S1   \n",
       "Species                                                              \n",
       "Sinsheimervirus phiX174                                   1.000000  \\\n",
       "Middle East respiratory syndrome-related corona...        0.016402   \n",
       "Murine leukemia virus                                     0.244239   \n",
       "Heterocapsa circularisquama DNA virus 01                  0.080345   \n",
       "Amsacta moorei entomopoxvirus                             0.076440   \n",
       "...                                                            ...   \n",
       "Alehxovirus humivivens                                    0.000000   \n",
       "Gyrovirus galga2                                          0.000000   \n",
       "Gemycircularvirus austro6                                 0.025327   \n",
       "Cymbidium ringspot virus                                  0.004226   \n",
       "Cehakivirus limihabitans                                  0.010106   \n",
       "\n",
       "                                                    Bats2015_30_S6   \n",
       "Species                                                              \n",
       "Sinsheimervirus phiX174                                   1.000000  \\\n",
       "Middle East respiratory syndrome-related corona...        0.007006   \n",
       "Murine leukemia virus                                     0.255161   \n",
       "Heterocapsa circularisquama DNA virus 01                  0.151897   \n",
       "Amsacta moorei entomopoxvirus                             0.140870   \n",
       "...                                                            ...   \n",
       "Alehxovirus humivivens                                    0.005618   \n",
       "Gyrovirus galga2                                          0.000000   \n",
       "Gemycircularvirus austro6                                 0.008297   \n",
       "Cymbidium ringspot virus                                  0.020706   \n",
       "Cehakivirus limihabitans                                  0.020479   \n",
       "\n",
       "                                                    Bats2015_21_S4   \n",
       "Species                                                              \n",
       "Sinsheimervirus phiX174                                   1.000000  \\\n",
       "Middle East respiratory syndrome-related corona...        0.166506   \n",
       "Murine leukemia virus                                     0.247000   \n",
       "Heterocapsa circularisquama DNA virus 01                  0.054138   \n",
       "Amsacta moorei entomopoxvirus                             0.054365   \n",
       "...                                                            ...   \n",
       "Alehxovirus humivivens                                    0.010166   \n",
       "Gyrovirus galga2                                          0.000000   \n",
       "Gemycircularvirus austro6                                 0.017467   \n",
       "Cymbidium ringspot virus                                  0.020494   \n",
       "Cehakivirus limihabitans                                  0.010638   \n",
       "\n",
       "                                                    Bats2015_31_S7   \n",
       "Species                                                              \n",
       "Sinsheimervirus phiX174                                   1.000000  \\\n",
       "Middle East respiratory syndrome-related corona...        0.029516   \n",
       "Murine leukemia virus                                     0.264042   \n",
       "Heterocapsa circularisquama DNA virus 01                  0.261207   \n",
       "Amsacta moorei entomopoxvirus                             0.229621   \n",
       "...                                                            ...   \n",
       "Alehxovirus humivivens                                    0.039058   \n",
       "Gyrovirus galga2                                          0.007790   \n",
       "Gemycircularvirus austro6                                 0.024891   \n",
       "Cymbidium ringspot virus                                  0.012466   \n",
       "Cehakivirus limihabitans                                  0.010904   \n",
       "\n",
       "                                                    Bats2015_19_S2   \n",
       "Species                                                              \n",
       "Sinsheimervirus phiX174                                   1.000000  \\\n",
       "Middle East respiratory syndrome-related corona...        0.025698   \n",
       "Murine leukemia virus                                     0.265362   \n",
       "Heterocapsa circularisquama DNA virus 01                  0.215345   \n",
       "Amsacta moorei entomopoxvirus                             0.209207   \n",
       "...                                                            ...   \n",
       "Alehxovirus humivivens                                    0.015249   \n",
       "Gyrovirus galga2                                          0.008200   \n",
       "Gemycircularvirus austro6                                 0.034061   \n",
       "Cymbidium ringspot virus                                  0.004226   \n",
       "Cehakivirus limihabitans                                  0.005319   \n",
       "\n",
       "                                                    Bats2015_27_S5  bat2-2015   \n",
       "Species                                                                         \n",
       "Sinsheimervirus phiX174                                   1.000000   1.000000  \\\n",
       "Middle East respiratory syndrome-related corona...        0.060759   0.012617   \n",
       "Murine leukemia virus                                     0.262842   0.248920   \n",
       "Heterocapsa circularisquama DNA virus 01                  0.410172   0.148448   \n",
       "Amsacta moorei entomopoxvirus                             0.239191   0.135246   \n",
       "...                                                            ...        ...   \n",
       "Alehxovirus humivivens                                    0.015249   0.015784   \n",
       "Gyrovirus galga2                                          0.000000   0.038950   \n",
       "Gemycircularvirus austro6                                 0.008734   0.016594   \n",
       "Cymbidium ringspot virus                                  0.012466   0.004014   \n",
       "Cehakivirus limihabitans                                  0.030319   0.010106   \n",
       "\n",
       "                                                    bat6-2015  Bats2015_20_S3   \n",
       "Species                                                                         \n",
       "Sinsheimervirus phiX174                              1.000000        1.000000  \\\n",
       "Middle East respiratory syndrome-related corona...   0.011056        0.021282   \n",
       "Murine leukemia virus                                0.244239        0.253481   \n",
       "Heterocapsa circularisquama DNA virus 01             0.128103        0.126034   \n",
       "Amsacta moorei entomopoxvirus                        0.116781        0.133671   \n",
       "...                                                       ...             ...   \n",
       "Alehxovirus humivivens                               0.000000        0.000000   \n",
       "Gyrovirus galga2                                     0.000000        0.016400   \n",
       "Gemycircularvirus austro6                            0.000000        0.000000   \n",
       "Cymbidium ringspot virus                             0.000000        0.008029   \n",
       "Cehakivirus limihabitans                             0.005319        0.015425   \n",
       "\n",
       "                                                    bat23-2015  \n",
       "Species                                                         \n",
       "Sinsheimervirus phiX174                               1.000000  \n",
       "Middle East respiratory syndrome-related corona...    0.018261  \n",
       "Murine leukemia virus                                 0.249040  \n",
       "Heterocapsa circularisquama DNA virus 01              0.208793  \n",
       "Amsacta moorei entomopoxvirus                         0.215481  \n",
       "...                                                        ...  \n",
       "Alehxovirus humivivens                                0.000000  \n",
       "Gyrovirus galga2                                      0.008200  \n",
       "Gemycircularvirus austro6                             0.025327  \n",
       "Cymbidium ringspot virus                              0.004014  \n",
       "Cehakivirus limihabitans                              0.020479  \n",
       "\n",
       "[10158 rows x 12 columns]"
      ]
     },
     "execution_count": 733,
     "metadata": {},
     "output_type": "execute_result"
    }
   ],
   "source": [
    "common_table"
   ]
  },
  {
   "cell_type": "code",
   "execution_count": 735,
   "id": "ce18dbcb-cb38-4447-83ff-e7edcba3d8c7",
   "metadata": {},
   "outputs": [
    {
     "data": {
      "text/plain": [
       "0        1.000000\n",
       "1        0.256861\n",
       "2        0.218206\n",
       "3        0.190201\n",
       "4        0.177141\n",
       "           ...   \n",
       "10153    0.000000\n",
       "10154    0.000000\n",
       "10155    0.000000\n",
       "10156    0.000000\n",
       "10157    0.000000\n",
       "Name: mean_coverage, Length: 10158, dtype: float64"
      ]
     },
     "execution_count": 735,
     "metadata": {},
     "output_type": "execute_result"
    }
   ],
   "source": [
    "barplot_table.mean_coverage"
   ]
  },
  {
   "cell_type": "code",
   "execution_count": null,
   "id": "f79f5a2b-ea2f-4fae-a499-cdc1420a586b",
   "metadata": {},
   "outputs": [],
   "source": []
  }
 ],
 "metadata": {
  "kernelspec": {
   "display_name": "Python 3 (ipykernel)",
   "language": "python",
   "name": "python3"
  },
  "language_info": {
   "codemirror_mode": {
    "name": "ipython",
    "version": 3
   },
   "file_extension": ".py",
   "mimetype": "text/x-python",
   "name": "python",
   "nbconvert_exporter": "python",
   "pygments_lexer": "ipython3",
   "version": "3.11.3"
  }
 },
 "nbformat": 4,
 "nbformat_minor": 5
}
